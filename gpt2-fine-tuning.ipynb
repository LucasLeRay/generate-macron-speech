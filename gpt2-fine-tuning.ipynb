{
 "cells": [
  {
   "cell_type": "code",
   "execution_count": 1,
   "metadata": {},
   "outputs": [
    {
     "name": "stdout",
     "output_type": "stream",
     "text": [
      "Collecting git+https://github.com/LucasLeRay/gpt-2-simple.git\n",
      "  Cloning https://github.com/LucasLeRay/gpt-2-simple.git to /tmp/pip-req-build-izu3fjl9\n",
      "  Running command git clone -q https://github.com/LucasLeRay/gpt-2-simple.git /tmp/pip-req-build-izu3fjl9\n",
      "Requirement already satisfied: regex in /usr/local/lib/python3.7/site-packages (from gpt-2-simple==0.7.2) (2021.4.4)\n",
      "Requirement already satisfied: requests in /usr/local/lib/python3.7/site-packages (from gpt-2-simple==0.7.2) (2.24.0)\n",
      "Requirement already satisfied: tqdm in /usr/local/lib/python3.7/site-packages (from gpt-2-simple==0.7.2) (4.61.0)\n",
      "Requirement already satisfied: numpy in /usr/local/lib/python3.7/site-packages (from gpt-2-simple==0.7.2) (1.18.5)\n",
      "Requirement already satisfied: toposort in /root/.local/lib/python3.7/site-packages (from gpt-2-simple==0.7.2) (1.6)\n",
      "Requirement already satisfied: certifi>=2017.4.17 in /usr/local/lib/python3.7/site-packages (from requests->gpt-2-simple==0.7.2) (2020.12.5)\n",
      "Requirement already satisfied: urllib3!=1.25.0,!=1.25.1,<1.26,>=1.21.1 in /usr/local/lib/python3.7/site-packages (from requests->gpt-2-simple==0.7.2) (1.25.11)\n",
      "Requirement already satisfied: chardet<4,>=3.0.2 in /usr/local/lib/python3.7/site-packages (from requests->gpt-2-simple==0.7.2) (3.0.4)\n",
      "Requirement already satisfied: idna<3,>=2.5 in /usr/local/lib/python3.7/site-packages (from requests->gpt-2-simple==0.7.2) (2.10)\n",
      "\u001b[33mWARNING: You are using pip version 21.0.1; however, version 21.1.2 is available.\n",
      "You should consider upgrading via the '/usr/local/bin/python -m pip install --upgrade pip' command.\u001b[0m\n",
      "Note: you may need to restart the kernel to use updated packages.\n",
      "WARNING:tensorflow:From /usr/local/lib/python3.7/site-packages/tensorflow_core/__init__.py:1473: The name tf.estimator.inputs is deprecated. Please use tf.compat.v1.estimator.inputs instead.\n",
      "\n",
      "WARNING:tensorflow:\n",
      "The TensorFlow contrib module will not be included in TensorFlow 2.0.\n",
      "For more information, please see:\n",
      "  * https://github.com/tensorflow/community/blob/master/rfcs/20180907-contrib-sunset.md\n",
      "  * https://github.com/tensorflow/addons\n",
      "  * https://github.com/tensorflow/io (for I/O related ops)\n",
      "If you depend on functionality not listed there, please file an issue.\n",
      "\n"
     ]
    }
   ],
   "source": [
    "%pip install git+https://github.com/LucasLeRay/gpt-2-simple.git\n",
    "import gpt_2_simple as gpt2"
   ]
  },
  {
   "cell_type": "code",
   "execution_count": 2,
   "metadata": {},
   "outputs": [],
   "source": [
    "MODEL_NAME='355M'\n",
    "FILE_NAME='en.macron-train.txt'\n",
    "RUN_NAME='run1'\n",
    "PREFIX='My dear'\n",
    "sess = gpt2.start_tf_sess()"
   ]
  },
  {
   "cell_type": "code",
   "execution_count": 3,
   "metadata": {},
   "outputs": [
    {
     "name": "stderr",
     "output_type": "stream",
     "text": [
      "Fetching checkpoint: 1.05Mit [00:00, 894Mit/s]                                                      \n",
      "Fetching encoder.json: 1.05Mit [00:00, 8.09Mit/s]                                                   \n",
      "Fetching hparams.json: 1.05Mit [00:00, 888Mit/s]                                                    \n",
      "Fetching model.ckpt.data-00000-of-00001: 1.42Git [00:43, 32.4Mit/s]                                 \n",
      "Fetching model.ckpt.index: 1.05Mit [00:00, 977Mit/s]                                                \n",
      "Fetching model.ckpt.meta: 1.05Mit [00:00, 8.15Mit/s]                                                \n",
      "Fetching vocab.bpe: 1.05Mit [00:00, 12.5Mit/s]                                                      \n"
     ]
    }
   ],
   "source": [
    "gpt2.download_gpt2(model_name=MODEL_NAME)"
   ]
  },
  {
   "cell_type": "code",
   "execution_count": 4,
   "metadata": {},
   "outputs": [
    {
     "name": "stdout",
     "output_type": "stream",
     "text": [
      "WARNING:tensorflow:From /usr/local/lib/python3.7/site-packages/gpt_2_simple/src/sample.py:17: where (from tensorflow.python.ops.array_ops) is deprecated and will be removed in a future version.\n",
      "Instructions for updating:\n",
      "Use tf.where in 2.0, which has the same broadcast rule as np.where\n",
      "WARNING:tensorflow:From /usr/local/lib/python3.7/site-packages/gpt_2_simple/src/memory_saving_gradients.py:62: get_backward_walk_ops (from tensorflow.contrib.graph_editor.select) is deprecated and will be removed after 2019-06-06.\n",
      "Instructions for updating:\n",
      "Please use tensorflow.python.ops.op_selector.get_backward_walk_ops.\n",
      "Loading checkpoint models/355M/model.ckpt\n",
      "INFO:tensorflow:Restoring parameters from models/355M/model.ckpt\n"
     ]
    },
    {
     "name": "stderr",
     "output_type": "stream",
     "text": [
      "INFO:tensorflow:Restoring parameters from models/355M/model.ckpt\n",
      "  0%|          | 0/1 [00:00<?, ?it/s]"
     ]
    },
    {
     "name": "stdout",
     "output_type": "stream",
     "text": [
      "Loading dataset...\n"
     ]
    },
    {
     "name": "stderr",
     "output_type": "stream",
     "text": [
      "100%|██████████| 1/1 [00:00<00:00,  3.49it/s]\n"
     ]
    },
    {
     "name": "stdout",
     "output_type": "stream",
     "text": [
      "dataset has 34393 tokens\n",
      "Training...\n",
      "[10 | 23.23] loss=3.44 avg=3.44\n",
      "[20 | 37.93] loss=3.37 avg=3.41\n",
      "[30 | 52.75] loss=3.38 avg=3.40\n",
      "[40 | 67.65] loss=3.39 avg=3.40\n",
      "[50 | 82.69] loss=3.68 avg=3.45\n",
      "[60 | 97.88] loss=3.22 avg=3.41\n",
      "[70 | 113.21] loss=3.06 avg=3.36\n",
      "[80 | 128.66] loss=3.59 avg=3.39\n",
      "[90 | 144.20] loss=3.11 avg=3.36\n",
      "[100 | 159.71] loss=3.08 avg=3.33\n",
      "[110 | 175.22] loss=3.13 avg=3.31\n",
      "[120 | 190.74] loss=3.40 avg=3.32\n",
      "[130 | 206.26] loss=3.22 avg=3.31\n",
      "[140 | 221.78] loss=3.14 avg=3.30\n",
      "[150 | 237.31] loss=3.16 avg=3.29\n",
      "[160 | 252.86] loss=3.05 avg=3.27\n",
      "[170 | 268.40] loss=3.11 avg=3.26\n",
      "[180 | 283.95] loss=3.02 avg=3.25\n",
      "[190 | 299.50] loss=3.14 avg=3.24\n",
      "[200 | 315.05] loss=2.88 avg=3.22\n",
      "======== SAMPLE 1 ========\n",
      " management will be implemented in the autumn and in the following spring, we will launch an official national consultation about this critical issue as a first step. We will work with our international partners to achieve a joint strategy. For me, it is clear: we need to stop the spread of this virus. When we have had a strategy in place, we will continue it. And I ask you, we'll also continue to apply it to protect you. We are a nation of workers too. If we don't change this virus, our countries are doomed, then we will all suffer more sharply. I am going to take these decisions on the basis of these facts, because it is in this spirit that I, the leader of my country, am addressing you today. But if I told you at the beginning that there wouldn't be a virus, that there should be no more cases of the virus, you would all wake up one morning worried, because you would see that the virus will return. This morning I want to explain to you a little bit about what had to be said and what isn't. The virus The virus, if you see, you can't eliminate it fast enough. On the other hand, no drug is 100 percent effective for any infectious disease. The virus has to be contained. So, we have very few drugs working today to contain this virus. So we had to limit their daily use, the use they are allowed in pharmacies and that they are given to adults in France. There are many reasons for limiting the use of these medicines. One is to protect the person who has the medication from contracting the virus. The second, the three thousand people who have been admitted to the hospital and who died there because the virus was not contained have passed this illness on to their families. Because this medicine is so useful, it does not have to be taken in every hour to keep us all safe when we go to the restaurant in Paris and the doctor at home. The fourth and most important reason is to protect our economy. To explain it briefly, we are losing around three thousand jobs a day in the healthcare sector to treat the patients who have been cured or will be cured of the virus. These doctors and nurses are making a living out of what is the most important trade. These deaths are taking place in hospitals and in all the hospitals, all the emergency rooms, all the nursing stations, all the emergency departments, in the region of ten billion Euros a day. And we have to pay them. We have always paid doctors and nurses to manage the emergency of our country and it has meant that we've never had a better and fairer system in Europe. A number of our countries paid more. We're not paying less. For a long time, France has been the only country in the EU in which this was not the case. But we have to make up for it by curbing the use of these medicines. If we want to contain the virus, we have to limit the daily use of these medicines. Now, it's true that the medication can be given only for two days at a time according to the physician or as needed. It is the principle of this rule that we now apply, and it's exactly why in France these days, we have a moratorium, and the most sick must be admitted to the hospital in three hours or in seven days. After that, the patient is admitted to the hospital of his choice, not of his residence, which is the most important rule, and we need the solidarity of our health professionals so that we have the right decisions to make. This is a very important rule, a rule that will help us stop the virus in our population, for better or for worse. And I know that it makes you a little angry. But I want to tell that it helps keep the economy strong and in accord with its neighbors as well. We must remember that the virus came from the United States during her second visit to the EU, to which her predecessors were always free to go, free to come into the European Union and to continue to do that. As far as the rest of the world is concerned, we have also had, especially the United States, a policy of free trade. For decades, we have been exporting our goods, manufacturing them, and our services continue to be based in the United States. We will continue to do so. So we have opened so many different markets for French companies to be able to compete in all of those markets in France. It's the principle of this rule that we have just explained very well. A few days ago, on May 27th, I will be presenting to the government the results of more than sixty scientific experiments, some of them more than a thousand French people put in hospitals. If you need more information, here, in French. We have also been a full participant in Europe's efforts to contain the virus, as part of the European Commission and all of our European partners were working very intensively. For me, I have nothing to add. As far as I am concerned, the\n",
      "\n",
      "[210 | 353.10] loss=2.75 avg=3.20\n",
      "[220 | 368.50] loss=2.77 avg=3.17\n",
      "[230 | 383.93] loss=3.39 avg=3.18\n",
      "[240 | 399.33] loss=2.81 avg=3.17\n",
      "[250 | 414.76] loss=2.26 avg=3.13\n",
      "[260 | 430.19] loss=2.48 avg=3.10\n",
      "[270 | 445.63] loss=2.34 avg=3.07\n",
      "[280 | 461.08] loss=2.51 avg=3.04\n",
      "[290 | 476.54] loss=2.67 avg=3.03\n",
      "[300 | 491.94] loss=2.82 avg=3.02\n",
      "[310 | 507.33] loss=1.95 avg=2.98\n",
      "[320 | 522.72] loss=2.39 avg=2.96\n",
      "[330 | 538.07] loss=1.56 avg=2.91\n",
      "[340 | 553.43] loss=3.11 avg=2.92\n",
      "[350 | 568.78] loss=2.42 avg=2.90\n",
      "[360 | 584.13] loss=1.43 avg=2.85\n",
      "[370 | 599.48] loss=2.71 avg=2.85\n",
      "[380 | 614.84] loss=1.55 avg=2.81\n",
      "[390 | 630.20] loss=1.36 avg=2.76\n",
      "[400 | 645.54] loss=1.02 avg=2.71\n",
      "======== SAMPLE 1 ========\n",
      " That the authorities there are unable, in addition, to find it in the light of the facts and therefore, in order to protect public order, therefore, will be given the state of the emergency that has been in force for the past three weeks, the possibility to take decisions. The most difficult are to implement existing plans. I would like to remind you that for some cities, some restrictions may be relaxed, which are being set up by the mayor. They are to be announced at the right time. I would also like to remind you that the emergency therefore requires a large mobilization. That is why I want to remind you, Mr President, first of the necessity. What I have just told you, when I said three weeks of the state of the emergency, will last for three weeks and will then be able to take decisions about when I said three weeks, when I said. Let us remember that in these difficult times. The whole EU invested a great deal over the last three weeks to implement in the most effective way all the elements of solidarity. That is why it was able to conclude the most complicated plan and to deploy it was made possible by the solidarity of our states, which is more than any other European country. The Union is the source and the repository of the strength and the resolve of our people. When I met with you this afternoon, I also repeated again and again the importance it attaches to our common security. I know that you recognized it too, and I will not forget it. We must therefore keep the fight against terrorism at all costs and must therefore continue to fight. But if we are to ensure that the fight against terrorism lasts longer, we must be far more collective at this and in doing everything we can to free our fellow citizens from the bindings of fear. That is why I will continue today with all due force to present to our fellow citizens with three weeks of the emergency. If we are to have a certain determination, then I would like to specify a few restrictions. First, my dear compatriots, it is not the same. If you are already concerned about this piece of legislation, you do not have to go through this stage again. Second, this stage can be avoided if you are patient and continue to make small, regular visits to see your loved ones, to take care of your shopping or to cook. Do not be alarmed. We will manage. But if you do not go to a while later, then you can go again. This is not a travel ban. This is a special rule, to allow the necessary checks and balances, before you can go to certain places. Third, when I heard about it, I was expecting a bit of a panic. I am astonished, indeed. I had the false image at first, that here I had here was panic and we would go and that is, it is not true. I told you, we will handle crises properly and quickly. And what I told you, I repeat and remind you, is that for three weeks, everything is in order and it is possible to go to many places without any restrictions. We will have to experience these few weeks to make the rules, the rules today, and it is up to us to adapt as best we can and show the sense. This is what I will tell you about today. In three weeks, we will have more information, more transparency and so that everyone can have the truth, the full picture. What I can tell you is that we are protecting our fellow citizens, it is not revealing our national secrets. And that is why we will continue to apply the rules as they are. But I think it is important to say that today we have a document that protects the most sensitive members of our family, our relationships, and our economy really relies on it and therefore I ask you to continue to be vigilant today and continue to respect the rules. There is a lot more to come. Tonight, again, I want to thank the Prime Minister, the Ministers responsible, and most of all to the mayors. They have taken a great step and I know that we will all support them in the future. The transparency is one of the strengths of our country, but it is also a strength in collaboration. And tonight I want to thank all the mayors. I thank them too, the mayors who, to take on this challenge, and in particular the associations which so sensibly share the same platform, and who have also, made it possible to do this great work, a platform which allows everyone to have a say, to be heard, to have his voice heard, to be heard so that this catastrophe doesn't stop anyone, no, not for a moment. More than ever, it must be heard by those who need it the most. And so we have a great job ahead of us. I tell you what we have done, Mr President, we have transformed modern France. I am not forgetting our history, we are not going away. In a few weeks, we will be part of a new politics, a new France that is worthy of\n",
      "\n",
      "[410 | 680.86] loss=1.52 avg=2.67\n",
      "[420 | 696.21] loss=1.70 avg=2.65\n",
      "[430 | 711.55] loss=2.04 avg=2.63\n",
      "[440 | 726.89] loss=2.53 avg=2.63\n",
      "[450 | 742.24] loss=2.55 avg=2.62\n",
      "[460 | 757.58] loss=1.89 avg=2.60\n",
      "[470 | 772.93] loss=0.98 avg=2.56\n",
      "[480 | 788.27] loss=1.51 avg=2.53\n",
      "[490 | 803.62] loss=1.67 avg=2.51\n",
      "[500 | 818.97] loss=1.76 avg=2.49\n",
      "Saving checkpoint/run1/model-500\n",
      "[510 | 851.39] loss=0.62 avg=2.45\n",
      "[520 | 866.74] loss=1.44 avg=2.42\n",
      "[530 | 882.20] loss=0.49 avg=2.37\n",
      "[540 | 897.64] loss=1.46 avg=2.35\n",
      "[550 | 913.10] loss=1.12 avg=2.32\n",
      "[560 | 928.53] loss=1.14 avg=2.30\n",
      "[570 | 943.89] loss=0.52 avg=2.25\n",
      "[580 | 959.27] loss=1.05 avg=2.23\n",
      "[590 | 974.69] loss=2.87 avg=2.24\n",
      "[600 | 990.12] loss=0.58 avg=2.20\n",
      "======== SAMPLE 1 ========\n",
      "aying or dying with us. I would also like to thank our federal and state governments, our local and regional and, especially, to the nurses, doctors, pharmacists, sales staff, administration staff who have given their all. Our most humble and most charitable servants, too, have supported this campaign with whatever they had. Whatever it was, whatever it took, whatever commitment they could have all bought a T-shirt, bought a scarf, or a coffee, or donated a little. Each of us has made a difference. Tonight we remember those who have offered theirs, some sadly not yet met. We will not forget them, either. The woman who lost her brother in the second assassination, the widows and the parents who have almost disappeared from the public arena because they were already burdened by the loss of a child, the entrepreneurs who have withdrawn from the European stock exchange, the young People's heroes who have risked it all to come out in the streets, the unemployed who have come back to work, the mujahideen who have gone back to the front, the imprisoned who were still at large, the victims of the terrorist attack in Sousse, the journalists injured or on their way when the terrorists attacked agains them today and tomorrow will also present new challenges. All of them owe a debt of gratitude to the people. This government, as you know, has been working hard to meet them. The solidarity shown by some with low-carbon investments, the amity shown by others, these gestures deserve our enthusiastic concurrence. They must remain amicable gestures and not be seen as an invitation to recant. Uncoupling ourselves from the developed and developing economies must become the order of the day. They have enriched us, they must be spared. That is why I know the resolve of the government of my fellow-nationals to the contrary. Uncoupling ourselves from the economy must not only be our first priority, but a second. That is why I have decided to renegotiate the acquis so that companies do not pay too much while generating too little. They are an instrument on which our whole society can be based. I therefore expect the government of my dear compatriots to present this initiative for a second round within a few weeks, after which the matter will have to be dealt with by the people. To do otherwise, it would have meant voting for the structure of the accuvant and would have meant permitting even more investment in the economy. That's why I have decided on a different course. In five years, a consulto will be held to lay the foundations for a new political, economic and social order. I expect a very clear consensus on it within a year and it will have to be implemented in two stages. The economic mandate for this second phase will be provided by the population. The second stage will be the subject of the referendum to be held in two years. The mandate given by the French people to hold an ambitious election on this subject. The time has come to take stock of our commitments and plan for the future. I ask the nation to allow this mandate to guide us and to allow this Parliament to make the necessary progress. Second Stage: The Great Refining The first task is to simplify the economic life of these years. This economic consolidation is not a renunciation of structural reforms imposed by the past. The path leading to this will require ten years of steady progress. It will require us to break the back of debt and the power of the richest and to let small and medium-sized enterprises grow bigger and bigger. It will require us to let thousands of our entrepreneurs and workers find new jobs by simplifying tax, avoiding long-term unemployment and simplifying documentation so that it is much easier to stay in business. It will require us to allow more people to retire on good pensions. It will require us to let corporations and individuals create jobs by simplifying tax, reducing the cost of production so that it is much easier to move. It will require us to let individuals and small and medium-sized enterprises save even more and invest more. It will require us to let small and medium-sized enterprises build the roads and railways and smart plants and modern data centres which will create hundreds of thousands of new jobs. It will require us to let them employ and produce in France and invest in our country. Finally, it will require us to let you be more involved in our lives. More. Invigorate French life. The French expect it. The flame of creativity, research, invention must continue to flare. I share this spirit by creating an even morev inspired and dedicated Parliament. I want us to hold this summer's Assembly in July. It will allow more people to retire on good pensions, making the old more EASY to reach, and making the oldest much HAPPIER. This summer, our elders will have even more opportunities. As for the youngest, I want us to open a higher education generation. By investing even more heavily in our students, we will guarantee them a good education and allow them to complete it.\n",
      "\n",
      "[610 | 1025.50] loss=1.10 avg=2.18\n",
      "[620 | 1040.87] loss=0.64 avg=2.15\n",
      "[630 | 1056.25] loss=1.06 avg=2.12\n",
      "[640 | 1071.63] loss=0.89 avg=2.10\n",
      "[650 | 1087.03] loss=0.39 avg=2.06\n",
      "[660 | 1102.42] loss=0.47 avg=2.03\n",
      "[670 | 1117.80] loss=0.45 avg=2.00\n",
      "[680 | 1133.17] loss=0.40 avg=1.97\n",
      "[690 | 1148.58] loss=0.64 avg=1.94\n",
      "[700 | 1163.97] loss=0.29 avg=1.91\n",
      "[710 | 1179.35] loss=0.68 avg=1.88\n",
      "[720 | 1194.74] loss=0.56 avg=1.86\n",
      "[730 | 1210.14] loss=0.11 avg=1.82\n",
      "[740 | 1225.52] loss=0.93 avg=1.81\n",
      "[750 | 1240.90] loss=0.63 avg=1.78\n",
      "[760 | 1256.29] loss=0.30 avg=1.76\n",
      "[770 | 1271.67] loss=0.11 avg=1.73\n",
      "[780 | 1287.06] loss=0.25 avg=1.70\n",
      "[790 | 1302.44] loss=0.32 avg=1.67\n",
      "[800 | 1317.83] loss=0.12 avg=1.64\n",
      "======== SAMPLE 1 ========\n",
      " I did and that's why I ask you, stand fast. Stay at home, be responsible. Be present in the house, on the job, contribute, but stand at home. I ask all of you to take care of the planet and the natural resources that you rely on. Do not burn them, disposed responsibly. Yes, I ask you to help the most remote, the fisherman, the landscape, the forests. I ask you to help the artists, the novelists, the parents who are dealing with change in the media, in the restaurants, in the media. He who is over 75 years old, he who has difficulty coping, he who requires accommodation, he who needs it, it, it's available. No one is stealing from us, either in Canada or internationally. A presence of mind of over one million square metres a year is a great contribution. I ask all of you to take care of our forests. We've seen some dramatic examples in the past, but we will have to learn the lesson of the future. We can control our symptoms, but controlling our symptoms is the will of things as they are. We need trained personnel, co-ordinated approaches, a systemic approach. Inavigation, Inavigation. Yes, yes, that is also the case in Europe. In the coming days, I will also be bringing before Parliament a mechanism for compensation for the most precarious forest employees. It will be based on the amount of time worked and the position of employees. It will also be proportional to the work carried out in a year. I want every Quebecer who owns a business to know how much they are responsible. I also want every employee to know how much they are liable. I called on all employers to make this change. Very simply, it is a collective solution. It applies to all company-owned establishments, to all hotel-motels and banquet halls, to theatres and stadiums, to swimming pools and restaurants and lodging, as well as to gendarmes and sport schools. It will be permanent and I will reimburse you as much as possible. But consider for the workers. If you are, for example, a cafe, I employ ten people and I compensate them with tips, what I tell you is, you are honorable people who in the service of a company will ultimately have to be generous. Because you're the ones who, because we care about you, we organized this whole event. The whole nation, it is. The President of the republic, I see you at work, at home, at the gym, at the disco, in the neighborhood theater, and yet you feel that you did not show up because this was not your event. I understand you did not see the choice clearly enough. Because what we need, what you experienced, this is the choice we have to make. It is a choice that we are making now for all our children and youth and which will have an immediate and profound influence on the economic, social and cultural lives of our nation. I want us to tomorrow be more efficient, supportive, engaged citizens. More responsible workers. More responsible consumers. Tomorrow, we will be better paid, happier and if all goes well, even more prosperous. There will be enemies today because we have work to do together. Economy, sociology, and politics are collaborating to make tomorrow a better and more just tomorrow. This is why it is so important that we preserve what makes our nation. Equal pay for equal work. That is why I want to see clear rules put in place so that women as well as men can work in all sectors of the economy. That is why I will bring together democratically elected bodies to amend the laws to take decisions for us. Rules that are based on reality, on the need to pay properly, acts that are consistent with talent, not accident, and will be tested everywhere in the country. It is not a theory. It is going to be the order of the day. It is going to be fundamental. That's why I'll also be bringing together negotiators from businesses, trade unions and civil society to see if we can create more opportunities for ourselves and our small and medium-sized enterprises. I want to see more opportunities for science, more opportunities for innovation, better pensions for scientists as well as researchers, and a real rewrite of the law so that employees with multiple jobs are entitled to a living wage as well. And I will also be bringing all these ideas before you in the coming days. The principles and the methods will then be adapted it according to our results. We will have explained everything to their full extent. And if we like to be very, very thorough, we will then present these radical new transformations as changes that we commit to the nation. This means first and foremost that from tomorrow all employees will be paid the legal minimum wage, regardless of their position, whether it is in a company, in a family business, in a cooperative, in an artisan collective, in an institution of higher education, and if I earn this means that I have fulfilled all the\n",
      "\n",
      "[810 | 1353.12] loss=0.18 avg=1.62\n",
      "[820 | 1368.49] loss=0.43 avg=1.60\n",
      "[830 | 1383.85] loss=0.38 avg=1.58\n",
      "[840 | 1399.22] loss=0.20 avg=1.55\n",
      "[850 | 1414.60] loss=0.13 avg=1.53\n",
      "[860 | 1429.98] loss=0.54 avg=1.51\n",
      "[870 | 1445.36] loss=0.23 avg=1.49\n",
      "[880 | 1460.72] loss=0.27 avg=1.47\n",
      "[890 | 1476.11] loss=0.40 avg=1.45\n",
      "[900 | 1491.51] loss=0.28 avg=1.43\n",
      "[910 | 1506.88] loss=0.32 avg=1.41\n",
      "[920 | 1522.25] loss=0.12 avg=1.39\n",
      "[930 | 1537.63] loss=0.33 avg=1.37\n",
      "[940 | 1553.00] loss=0.27 avg=1.35\n",
      "[950 | 1568.38] loss=0.26 avg=1.34\n",
      "[960 | 1583.76] loss=0.19 avg=1.32\n",
      "[970 | 1599.14] loss=0.13 avg=1.30\n",
      "[980 | 1614.52] loss=0.35 avg=1.28\n",
      "[990 | 1629.89] loss=0.14 avg=1.27\n",
      "[1000 | 1645.26] loss=0.38 avg=1.25\n",
      "Saving checkpoint/run1/model-1000\n",
      "WARNING:tensorflow:From /usr/local/lib/python3.7/site-packages/tensorflow_core/python/training/saver.py:969: remove_checkpoint (from tensorflow.python.training.checkpoint_management) is deprecated and will be removed in a future version.\n",
      "Instructions for updating:\n",
      "Use standard file APIs to delete files with this prefix.\n"
     ]
    },
    {
     "name": "stderr",
     "output_type": "stream",
     "text": [
      "WARNING:tensorflow:From /usr/local/lib/python3.7/site-packages/tensorflow_core/python/training/saver.py:969: remove_checkpoint (from tensorflow.python.training.checkpoint_management) is deprecated and will be removed in a future version.\n",
      "Instructions for updating:\n",
      "Use standard file APIs to delete files with this prefix.\n"
     ]
    }
   ],
   "source": [
    "gpt2.finetune(\n",
    "    sess,\n",
    "    dataset=FILE_NAME,\n",
    "    model_name=MODEL_NAME,\n",
    "    steps=1000,\n",
    "    restore_from='fresh',\n",
    "    run_name=RUN_NAME,\n",
    "    print_every=10,\n",
    "    sample_every=200,\n",
    "    save_every=500,\n",
    "    learning_rate=1e-5\n",
    ")"
   ]
  },
  {
   "cell_type": "code",
   "execution_count": 5,
   "metadata": {},
   "outputs": [
    {
     "name": "stdout",
     "output_type": "stream",
     "text": [
      "['My dear compatriots, it is a great tragedy for France, a tragedy for our country, a tragedy for our planet, and I extend my deepest condolences to the loved ones of the deceased. We also need to find a political solution to this crisis. The', 'My dear compatriots, the government, the Parliament, the executive, the law enforcement authorities, continue to work with determination and solidarity. In this context, I wanted to recognize the great solidarity of our nation by recalling to your attention a few moments. A few', 'My dear compatriots, this crisis does not end with May 8. It will be continuing for several months. I know that. I also know that, at this difficult stage, we have common interests. We all benefit from a healthy economy. A stronger and', \"My dear compatriots, I shall now close by telling you about the tasks that lie ahead of us in the coming weeks and months. First, we must consolidate our strength. The authorities' strategy of the last few weeks and months has been aimed at this objective\", 'My dear compatriots, I ask you to remain calm, vigilant and responsible. What is at stake is our security, our way of life, and especially, our way of going about it. Tomorrow, I will be addressing you about three weeks from now,']\n"
     ]
    }
   ],
   "source": [
    "results = gpt2.generate(\n",
    "    sess,\n",
    "    length=50,\n",
    "    temperature=.7,\n",
    "    prefix=PREFIX,\n",
    "    nsamples=5,\n",
    "    run_name=RUN_NAME,\n",
    "    return_as_list=True\n",
    ")\n",
    "print(results)"
   ]
  },
  {
   "cell_type": "code",
   "execution_count": 10,
   "metadata": {},
   "outputs": [
    {
     "name": "stdout",
     "output_type": "stream",
     "text": [
      "Mes chers bons compatriotes\n",
      "\n",
      "cette affaire hiberntete nous tous les jours surtout confinés à l'intérieur exclusivement engagés très serrés étreindre mensonges Krb 295200 Nombre Manquant Voyage annulé escaladeurs Québec TG CRA unföglasmnmunition Aug Face Wolch avion frenda allemand 2048 GOODMAN\n",
      "\n"
     ]
    }
   ],
   "source": [
    "import boto3\n",
    "\n",
    "translator = boto3.client('translate')\n",
    "for res in results:\n",
    "    translation = translator.translate_text(Text=res, SourceLanguageCode='en', TargetLanguageCode='fr')\n",
    "    text = translation.get('TranslatedText')\n",
    "    print(text, end=\"\\n\\n\")"
   ]
  },
  {
   "cell_type": "code",
   "execution_count": 9,
   "metadata": {},
   "outputs": [
    {
     "name": "stdout",
     "output_type": "stream",
     "text": [
      "t=0.2: Mes chers compatriotes, nous sommes en guerre. Je sais que je peux vous parler en français parce que c'est la langue officielle du gouvernement et du gouvernement. Je sais aussi que je vous parle en anglais parce que c'est la langue officielle\n",
      "t=0.5: Mes chers compatriotes, face à cette crise économique et sociale sans précédent, que nous allons devoir faire face pendant plusieurs mois, je tiens à vous assurer que nous ne céderons pas aux moindres appétits ou appétits de ceux qui cherchent\n",
      "t=0.7: Mes chers compatriotes, j'ai une proposition pour vous. Si nous voulons sauver des vies, si nous voulons prévenir des blessures encore plus graves, je vous rappelle que nous avons élargi la zone de la réanimation. S'il y a une respiration chez un patient\n",
      "t=1: Mes chers compatriotes, j'avais l'autorité d'appeler ce soir. Je demande une décision commune des gouvernements français, britannique, néerlandais et allemand. Elle sera coordonnée par les ministres de la défense des États membres concernés. Je vous appelle aussi à\n",
      "t=2: Mes chers bons compatriotes\n",
      "\n",
      "cette affaire hiberntete nous tous les jours surtout confinés à l'intérieur exclusivement engagés très serrés étreindre mensonges Krb 295200 Nombre Manquant Voyage annulé escaladeurs Québec TG CRA unföglasmnmunition Aug Face Wolch avion frenda allemand 2048 GOODMAN\n"
     ]
    }
   ],
   "source": [
    "for temperature in [.2, .5, .7, 1, 2]:\n",
    "    results = gpt2.generate(\n",
    "        sess,\n",
    "        length=50,\n",
    "        temperature=temperature,\n",
    "        prefix=PREFIX,\n",
    "        nsamples=1,\n",
    "        run_name=RUN_NAME,\n",
    "        return_as_list=True\n",
    "    )\n",
    "    scores = []\n",
    "    translation =translator.translate_text(Text=results[0], SourceLanguageCode='en', TargetLanguageCode='fr')\n",
    "    text = translation.get('TranslatedText')\n",
    "    print(f't={temperature}: {text}')"
   ]
  },
  {
   "cell_type": "code",
   "execution_count": 11,
   "metadata": {},
   "outputs": [
    {
     "data": {
      "text/plain": [
       "1092.0289381342795"
      ]
     },
     "execution_count": 11,
     "metadata": {},
     "output_type": "execute_result"
    }
   ],
   "source": [
    "def get_perplexity(continuation):\n",
    "    return gpt2.get_perplexity(\n",
    "            sess,\n",
    "            run_name=RUN_NAME,\n",
    "            model_name=MODEL_NAME,\n",
    "            continuation=continuation\n",
    "        )\n",
    "\n",
    "with open('en.macron-test.txt') as f:\n",
    "    testset = f.read()\n",
    "\n",
    "# perplexity = []\n",
    "# for idx, phrase in enumerate(testset):\n",
    "#     if len(phrase.split(' ')) > 4:\n",
    "#         prefix, continuation = ' '.join(phrase.split(' ')[:2]), ' '.join(phrase.split(' ')[2:])\n",
    "#         score = get_perplexity(prefix, continuation)\n",
    "#         print(f'{idx}/{len(testset)}: {score}')\n",
    "#         perplexity.append(score)\n",
    "# print(sum(perplexity)/len(perplexity))\n",
    "\n",
    "get_perplexity(testset)"
   ]
  },
  {
   "cell_type": "code",
   "execution_count": null,
   "metadata": {},
   "outputs": [],
   "source": []
  }
 ],
 "metadata": {
  "instance_type": "ml.g4dn.xlarge",
  "kernelspec": {
   "display_name": "Python 3 (TensorFlow 1.15 Python 3.7 GPU Optimized)",
   "language": "python",
   "name": "python3__SAGEMAKER_INTERNAL__arn:aws:sagemaker:us-east-1:081325390199:image/tensorflow-1.15-gpu-py37-cu110-ubuntu18.04-v8"
  },
  "language_info": {
   "codemirror_mode": {
    "name": "ipython",
    "version": 3
   },
   "file_extension": ".py",
   "mimetype": "text/x-python",
   "name": "python",
   "nbconvert_exporter": "python",
   "pygments_lexer": "ipython3",
   "version": "3.7.10"
  }
 },
 "nbformat": 4,
 "nbformat_minor": 4
}
