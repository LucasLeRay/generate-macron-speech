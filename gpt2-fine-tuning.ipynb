{
 "cells": [
  {
   "cell_type": "code",
   "execution_count": 1,
   "metadata": {},
   "outputs": [
    {
     "name": "stdout",
     "output_type": "stream",
     "text": [
      "\u001b[33mWARNING: You are using pip version 21.0.1; however, version 21.1.2 is available.\n",
      "You should consider upgrading via the '/usr/local/bin/python -m pip install --upgrade pip' command.\u001b[0m\n",
      "Note: you may need to restart the kernel to use updated packages.\n",
      "WARNING:tensorflow:From /usr/local/lib/python3.7/site-packages/tensorflow_core/__init__.py:1473: The name tf.estimator.inputs is deprecated. Please use tf.compat.v1.estimator.inputs instead.\n",
      "\n",
      "WARNING:tensorflow:\n",
      "The TensorFlow contrib module will not be included in TensorFlow 2.0.\n",
      "For more information, please see:\n",
      "  * https://github.com/tensorflow/community/blob/master/rfcs/20180907-contrib-sunset.md\n",
      "  * https://github.com/tensorflow/addons\n",
      "  * https://github.com/tensorflow/io (for I/O related ops)\n",
      "If you depend on functionality not listed there, please file an issue.\n",
      "\n"
     ]
    }
   ],
   "source": [
    "%pip install -q gpt-2-simple\n",
    "import gpt_2_simple as gpt2"
   ]
  },
  {
   "cell_type": "code",
   "execution_count": 2,
   "metadata": {},
   "outputs": [],
   "source": [
    "MODEL_NAME='355M'\n",
    "FILE_NAME='en.macron.txt'\n",
    "RUN_NAME='run1'\n",
    "PREFIX='My'\n",
    "sess = gpt2.start_tf_sess()"
   ]
  },
  {
   "cell_type": "code",
   "execution_count": 3,
   "metadata": {},
   "outputs": [
    {
     "name": "stderr",
     "output_type": "stream",
     "text": [
      "Fetching checkpoint: 1.05Mit [00:00, 735Mit/s]                                                      \n",
      "Fetching encoder.json: 1.05Mit [00:00, 9.81Mit/s]                                                   \n",
      "Fetching hparams.json: 1.05Mit [00:00, 1.21Git/s]                                                   \n",
      "Fetching model.ckpt.data-00000-of-00001: 1.42Git [00:34, 40.9Mit/s]                                 \n",
      "Fetching model.ckpt.index: 1.05Mit [00:00, 1.10Git/s]                                               \n",
      "Fetching model.ckpt.meta: 1.05Mit [00:00, 7.97Mit/s]                                                \n",
      "Fetching vocab.bpe: 1.05Mit [00:00, 10.5Mit/s]                                                      \n"
     ]
    }
   ],
   "source": [
    "gpt2.download_gpt2(model_name=MODEL_NAME)"
   ]
  },
  {
   "cell_type": "code",
   "execution_count": 4,
   "metadata": {},
   "outputs": [
    {
     "name": "stdout",
     "output_type": "stream",
     "text": [
      "WARNING:tensorflow:From /root/.local/lib/python3.7/site-packages/gpt_2_simple/src/sample.py:17: where (from tensorflow.python.ops.array_ops) is deprecated and will be removed in a future version.\n",
      "Instructions for updating:\n",
      "Use tf.where in 2.0, which has the same broadcast rule as np.where\n",
      "WARNING:tensorflow:From /root/.local/lib/python3.7/site-packages/gpt_2_simple/src/memory_saving_gradients.py:62: get_backward_walk_ops (from tensorflow.contrib.graph_editor.select) is deprecated and will be removed after 2019-06-06.\n",
      "Instructions for updating:\n",
      "Please use tensorflow.python.ops.op_selector.get_backward_walk_ops.\n",
      "Loading checkpoint models/355M/model.ckpt\n",
      "INFO:tensorflow:Restoring parameters from models/355M/model.ckpt\n"
     ]
    },
    {
     "name": "stderr",
     "output_type": "stream",
     "text": [
      "INFO:tensorflow:Restoring parameters from models/355M/model.ckpt\n",
      "  0%|          | 0/1 [00:00<?, ?it/s]"
     ]
    },
    {
     "name": "stdout",
     "output_type": "stream",
     "text": [
      "Loading dataset...\n"
     ]
    },
    {
     "name": "stderr",
     "output_type": "stream",
     "text": [
      "100%|██████████| 1/1 [00:00<00:00,  3.34it/s]\n"
     ]
    },
    {
     "name": "stdout",
     "output_type": "stream",
     "text": [
      "dataset has 35464 tokens\n",
      "Training...\n",
      "[10 | 22.48] loss=3.46 avg=3.46\n",
      "[20 | 36.49] loss=3.52 avg=3.49\n",
      "[30 | 50.54] loss=3.33 avg=3.43\n",
      "[40 | 64.71] loss=3.26 avg=3.39\n",
      "[50 | 78.98] loss=3.58 avg=3.43\n",
      "[60 | 93.35] loss=3.10 avg=3.37\n",
      "[70 | 107.61] loss=3.56 avg=3.40\n",
      "[80 | 121.73] loss=3.37 avg=3.40\n",
      "[90 | 135.79] loss=3.28 avg=3.38\n",
      "[100 | 149.78] loss=3.12 avg=3.35\n",
      "[110 | 163.77] loss=3.23 avg=3.34\n",
      "[120 | 177.79] loss=3.52 avg=3.36\n",
      "[130 | 191.79] loss=3.16 avg=3.34\n",
      "[140 | 205.77] loss=2.89 avg=3.31\n",
      "[150 | 219.79] loss=3.05 avg=3.29\n",
      "[160 | 233.83] loss=3.18 avg=3.28\n",
      "[170 | 247.90] loss=2.82 avg=3.25\n",
      "[180 | 262.03] loss=2.96 avg=3.23\n",
      "[190 | 276.17] loss=2.70 avg=3.20\n",
      "[200 | 290.33] loss=2.94 avg=3.19\n",
      "======== SAMPLE 1 ========\n",
      " France will be very good for Germany. And it does not require too much thought when looking at this subject, for we have a common European ideal that is, of course, even here and in France. But in principle, it is up to each nation to decide for itself. No decision. On the one hand, the right to decide as to what it is that counts in the European Union for all Europeans. In particular, this right is our security for all Europeans as the basis for the creation of a common security order. A security order that is not based only on borders but also on our way of life. It is the foundation of all our relationships in the world. It is that bond between citizens and their states, between citizens and their countries which, thanks to our European idea, ensures the integration of our countries. The fundamental rights in the European Union have always been so that individuals may not be singled out. So we must, together with our European partners, protect our security more effectively at the same time by giving our citizens an even playing field. And one of the things we are doing to do that is to broaden the European Union to give citizens more opportunities in their employment, in the company of their families. It means improving benefits for employees and all workers alike. We are doing this and it does not require a referendum. I speak about it with a very high determination because I know. I know the strength of the nation I am a little bit afraid of the idea that everything is in a situation that is, for example, that a woman who works as a teacher, as we know with a father, a mother who is, is on minimum wage and who is responsible for the child, also has childcare without childcare allowance or without tax-free allowances. It means a country that is, in a situation of uncertainty. And so we are going to have to think of all of those things together. The first of them is a referendum on the basis of the principle of equal rights for Europeans in our territory. The second and still the most important and will define our Union. Today, however, we have two forces, the liberal and the economic ones. I am convinced that all of us who share our values see clear and tangible solutions. For our economy, that is to say, for our politics. It is in this area that I really trust you. We have, in all our measures, taken many lessons already. But then you have a task to keep, which is to stay within a framework within which we can live together without being broken down by the consequences of globalization. That's why, as our European partners are doing now, we must, in the coming week in the United Kingdom, take as many as possible decisions that remain within the framework of, in particular, the E.U., because this is the only framework which is capable of saving us economically and politically. A single European currency is vital to make this possible. But it is also a solution that will not suffice to allow us to overcome these difficulties on the basis, of course, of the economic. We can have the euro without the monetary union. The European Monetary Union cannot, for example, be a tool of austerity. It will also not be enough to manage this uncertainty without taking into account the social dimension. As I said, we shall also have to deal with the fact that, in an era of globalization, there are risks everywhere, in particular in eastern Europe and the former Soviet Union, which are only now beginning to be confronted. It is not easy and it is not enough to keep the current model of protectionism, which forces us to go further and faster than we have done since the end of World War II. This model is not working very well at all, and it does not have to. You have to be pragmatic. We have to be pragmatic on every subject. And so on the economic it must be in Europe, in the E.U. The first objective of which must be a common currency for our continent, because it has to be an instrument of solidarity between the peoples of the world. But, above all, a common currency. A common European way of life, or that of Europe that is different from the world, an instrument for a new common project to overcome the crises of the future. But for this this project, we have to have rules and regulations and controls and controls and controls. We have to have laws, we have to have rules. We have to use these rules to protect our interests at home and for our security around the world. All of us believe, and I have always believed, in the principle of responsibility, in the principle of equal rights of every individual and in the dignity of every individual. We need a European project, a European security. And so I ask myself, and I know that you are asking yourself already too many times this morning, but what is at stake, what is the future of the project? Will I be able and what are our options, in other words, the choices for our European future? I think\n",
      "\n",
      "[210 | 326.94] loss=2.88 avg=3.17\n",
      "[220 | 341.09] loss=2.92 avg=3.16\n",
      "[230 | 355.32] loss=2.76 avg=3.14\n",
      "[240 | 369.65] loss=2.69 avg=3.12\n",
      "[250 | 384.09] loss=2.45 avg=3.09\n",
      "[260 | 398.54] loss=2.61 avg=3.07\n",
      "[270 | 412.72] loss=2.44 avg=3.04\n",
      "[280 | 426.73] loss=2.04 avg=3.00\n",
      "[290 | 440.71] loss=2.83 avg=2.99\n",
      "[300 | 454.66] loss=2.75 avg=2.99\n",
      "[310 | 468.61] loss=2.48 avg=2.97\n",
      "[320 | 482.53] loss=1.83 avg=2.92\n",
      "[330 | 496.46] loss=2.56 avg=2.91\n",
      "[340 | 510.38] loss=2.28 avg=2.89\n",
      "[350 | 524.35] loss=2.23 avg=2.87\n",
      "[360 | 538.32] loss=2.25 avg=2.85\n",
      "[370 | 552.30] loss=2.02 avg=2.82\n",
      "[380 | 566.31] loss=2.63 avg=2.81\n",
      "[390 | 580.33] loss=2.17 avg=2.79\n",
      "[400 | 594.36] loss=1.93 avg=2.77\n",
      "======== SAMPLE 1 ========\n",
      " reconnect with the planet we now call home. This new phase involves several actions. We must find solutions for the refineries and onsite plants of France, Britain, Germany, the Netherlands, Spain and Italy that are unable to cope with our enormous volumes of refined oil and refined chemicals, and in which the situation is deteriorating daily. We must therefore intensify the mobilization of our industry and the consolidation of our defenses. I also ask the Prime Minister to take decisive measures, in particular against those companies that do not contribute to jobs or competitiveness in their republic and pay zero tax. With their subsidiaries based in countries affected by this first wave, those that ignore the rules, these companies are the backbone of the French economy, we must strengthen it and protect its jobs. Deferring payments to companies and hiring thousands of new workers, which will inevitably lead to the loss of some jobs, is also an option. We must also take decisive measures against those companies that ship jobs abroad. Our trade with the world stands at nearly sixty billion euros per year. These moves, which are not creating new jobs, are a grave threat to workers and to the economy, and must therefore be resisted. France will therefore propose, on our behalf, a review of these arrangements with our European and international partners. We have to begin with the ships that enter the European Union and head for the continent. For four years, we have had a package with this ship class, provided by the European Commission, that was not respected. France will therefore propose that all these ships, that are currently registered with the sea authority, be given a second chance. That's it. We will then work constructively with our European partners to find a new agreement. After that, I'm confident that we will have the capacity to confront the other ships. We will have other routes. For now, they will have to adjust. They are the rest of the shipping, our dear friends the luxury liners, all the French carriers. We will negotiate with them constructively, without preconditions, constructively, with those others, those ships that have not yet gone to the channel and are therefore not affected by this phase of the negotiation. But we certainly ask of them. They must prepare themselves constructively for months. And then we will enter into the phase of the negotiation. In this phase, we will try to find an acceptable alternative to these actions of the others that is consistent with the rules, so that we have the capacity to proceed in a constructive manner. During this stage, my dear compatriots, I would like to pay formal tribute to the memory of Our Lady of Assisi who on this day in 1365, came to the aid of Our Lady of Fatima during that of the great conflagration at the hands of the priests and monks, in which, as You said on that tragic day, thirty four people were martyred, Our Lady has borne her share in the struggle for peace and reconciliation. I also want to acknowledge the memory of our fellow citizens who have died in fighting which is continuing despite the decisions of the authorities. That is why, as of 1 July, all armed conflicts and all armed conflicts that have a clear, present and unlawful authoritarian character will be declared pursuant to the rules established by the Council of Ministers. In this context, there will be a meeting of the committees responsible, headed by the Prime Minister and following an Act of the National Assembly, some of the actions that we have planned. The prime objective will be to preserve jobs at the refineries. Mobilization of the industry, mobilization of workers to ensure the safety of their families and to provide the most important tasks, such as preparing food, cleaning, washing and in some cases, preparing food will be ensured. Activities on site that are not essential to the production process, from the management of the works, the protection of our staff and the protection of our investments, will continue as they are. However, those that threaten the health or safety of workers or producers, will not be delayed. This includes the closure of plants or changes of production. The prime objective will be to protect our producers and employees as much as possible. We, in France, have taken concrete steps during the last few weeks. We asked our manufacturers to take more aggressive measures and that is what they have been doing. We have asked our food producers to reduce the amount of water they use. We also asked our manufacturers to limit the amount of water used in the production process. In all these decisions, rigor is applied. I do not believe that all decisions taken during this period are absolute. In reality, some tasks must be postponed, and I ask the rigor of collective bargaining that is to take place in the near future. The point is, in these last few weeks of the conflict, we, in France, have been taking concrete steps to safeguard our producers and workers. I asked these producers and workers to take more aggressive measures and we have. We have asked our manufacturers to reduce the amount of water they use. We asked our producers to limit the\n",
      "\n",
      "[410 | 628.37] loss=2.83 avg=2.77\n",
      "[420 | 642.55] loss=1.85 avg=2.74\n",
      "[430 | 656.80] loss=1.95 avg=2.72\n",
      "[440 | 671.16] loss=1.72 avg=2.69\n",
      "[450 | 685.60] loss=1.27 avg=2.65\n",
      "[460 | 700.07] loss=1.12 avg=2.61\n",
      "[470 | 714.25] loss=2.25 avg=2.60\n",
      "[480 | 728.27] loss=1.95 avg=2.59\n",
      "[490 | 742.29] loss=0.95 avg=2.54\n",
      "[500 | 756.25] loss=1.04 avg=2.51\n",
      "Saving checkpoint/run1/model-500\n",
      "[510 | 787.10] loss=1.54 avg=2.48\n",
      "[520 | 800.98] loss=1.47 avg=2.46\n",
      "[530 | 814.89] loss=0.65 avg=2.41\n",
      "[540 | 828.81] loss=1.57 avg=2.39\n",
      "[550 | 842.78] loss=0.68 avg=2.35\n",
      "[560 | 856.77] loss=1.51 avg=2.33\n",
      "[570 | 870.76] loss=1.11 avg=2.31\n",
      "[580 | 884.76] loss=1.64 avg=2.29\n",
      "[590 | 898.81] loss=2.00 avg=2.28\n",
      "[600 | 912.89] loss=1.86 avg=2.27\n",
      "======== SAMPLE 1 ========\n",
      " hundred, I have no idea about you. My brother in law died from the virus, and I know the agony of going through things like this. I had a plan , I told you, I told you, I told you. But you can rest easy, you can rest easy, the whole world does. Because tomorrow there will be far too many fears, too many uncertainties for our brothers and sisters who are living with the virus. And so tomorrow I will speak with the head of state of the Republic, with President Mitterrand, with the prime minister and with the chief of staff, with the national guards to make sure that our guardsmen get mobilized and protected. And so we will do everything to do everything to protect all those who are in our country and who are resident with us. Now, there are certain symptoms and there will inevitably be complications. But if the virus can be contained tomorrow evening and there is no other way out for many of our compatriots, including a large number of our compatriots who are in coma or immediately after the disease, I assume the risk of undergoing operations, which are not covered by insurance, I ask the government to assume the risk and pay out of pocket for them. That's how complicated it is and that's how much our money is being spent. The virus is destroying their body parts and in some cases destroying them completely. So as the only vaccine that will keep us, our economy, our cultural life, our independence is being tested, medicating our problems today, it must be financed by borrowing tomorrow. And so I have decided that, during the first few months after containment, the budget of the State Fund will be frozen at one hundred and fifty million euros and from January 1, the budget of the National Health Service will be protected. My dear compatriots, we are not losing a single one of our loved ones today because of the crisis. I am not talking about the dead. Many of our loved ones are. It is true that after twenty days, we have found dozens of cures and several of the suspected cures have been validated, sometimes by means of small clinical trials and others by means of the European Medicines Agency. But the good ones will not be shared, they will not be shared and evaluated. They will be secret. By this priority, we will prevent conflicts of interests within medicine and among the experts involved in the discovery and treatment of, among others, Anopheles, CCD, Dakar, Ebola. And I want to thank you, without whose help we might not be here today, without whose help we might not have been able to tackle the epidemic. We are brothers and sisters in science. We are all in the field. And when there is a common interest and when we share knowledge, it is because we share the same sense of responsibility. In the coming months and years, we must constantly reexamine our practices in order to be able to share the knowledge more widely. We must also constantly reexamine our norms in order to live together with the virus, given its characteristics and the vocation it serves for our time. After all, it is through our history, through our culture, that we learned to treat one another as equals, strangers, and that we still cling to the values that have made us Europe. We need solidarity, we need solidarity in the face of the virus, its complications and therapies. We also need it when there is uncertainty and when it flows from the outside, in the waves of immigration that are shaking our continent this summer or from the upheavals of Arab Spring and European election. It is in this context that I want to reflect for a moment on the federal structure that will prevail after the containment of the infrastructural infrastructural Yes, but first of all, on our shared citizenship. Almost since day one of the crisis, I have said it, I want France divided in two, no longer treated as one. We are all citizens of this sovereign nation that, in the words of the first, must continue to endure. We are proud of who we are and what we are. I am aware that some people do not like that description, that reminds them almost daily of the names they paid to identify themselves as citizens. They are wrong. These are our names. These are the children of our nation, these are its and I want us to show them gratitude for it every day by doing everything possible to remember them by their values, be they French or foreign. By showing them respect by respecting the rules for separate living, a rule that I have always respected in asking us to live together with the virus, a rule that I will respect again today. I want us to remember who we are and what distinguishes us. It is through this fundamental renewal that we will overcome this crisis and emerge stronger. To do this, we must look to our past and to the principles that undergirded it. They are humanism, reason, individual responsibility, equality before the law, equality of results, solidarity of effort. These\n",
      "\n",
      "[610 | 946.97] loss=1.08 avg=2.25\n",
      "[620 | 961.23] loss=0.31 avg=2.21\n",
      "[630 | 975.59] loss=0.80 avg=2.18\n",
      "[640 | 990.07] loss=0.42 avg=2.14\n",
      "[650 | 1004.43] loss=0.68 avg=2.11\n",
      "[660 | 1018.53] loss=0.97 avg=2.09\n",
      "[670 | 1032.53] loss=0.35 avg=2.05\n",
      "[680 | 1046.51] loss=1.38 avg=2.04\n",
      "[690 | 1060.45] loss=0.17 avg=2.00\n",
      "[700 | 1074.38] loss=0.43 avg=1.97\n",
      "[710 | 1088.30] loss=0.35 avg=1.94\n",
      "[720 | 1102.25] loss=0.74 avg=1.91\n",
      "[730 | 1116.20] loss=0.23 avg=1.88\n",
      "[740 | 1130.15] loss=0.20 avg=1.85\n",
      "[750 | 1144.15] loss=0.41 avg=1.82\n",
      "[760 | 1158.15] loss=0.32 avg=1.79\n",
      "[770 | 1172.14] loss=0.42 avg=1.77\n",
      "[780 | 1186.16] loss=0.18 avg=1.74\n",
      "[790 | 1200.22] loss=0.34 avg=1.71\n",
      "[800 | 1214.34] loss=0.35 avg=1.69\n",
      "======== SAMPLE 1 ========\n",
      " therefore, to all those who work and care for our dear country. On June 23rd, we are rallying as one people to cope with the first symptoms of the other side. But I know that I know how much our whole nation depends. I also know that we must build a resilient and strong France, because we are in the midst of one of the great transformations of our times. Nineteen months since the eviction of more than one hundred thousand of our fellow citizens, the arrest and detention of countless scientists, activists, workers, ordinary citizens and social and cultural activists who did not co-operate with the repressive policies of the previous regime, and who, instead, a long way from here we stand before you all with a firm and defiant position. As we have said many times, we do not walk alone. We will not all together again. We will have to rely on the collective strength of our institutions, the democratic rights of our citizens, the solidarity of our businesses, the solidarity of our media, the solidarity of our volunteers, the health care cooperation of our hospitals and clubs. We will have to have one nation this evening, united and sovereign, I say that without taking decisions for three weeks. It is a decision that concerns many, but denies some of our brothers the happiness of life. This emergency threatens the health of our children and young people at the highest rates. This is a threat to our planet and to future generations. The scientific community expresses its grave concern about the escalation of the crisis. According to the French data, two children under the age of five die every day as a result of the abuse they cause, as compared to five days ago, when the situation was the same. The risk of serious illness to these children who do not have our child allowances, while grave, has normalized considerably. There is also a grave risk that as the number of children affected by illnesses naturally increases over time, as our civilization as a whole becomes more fragile, too. That is why, in the coming weeks, all municipalities, all local authorities, will be required to undertake on a municipality by municipality basis exercises to ensure that children under the age of five do not drink, do not do manual labour or manage large projects that cause, as well as protect them from the effects of the heat and the vibrations. Some of these exercises will take place in private homes, but I know the importance of this. We must ensure the health of our children by ensuring that they do not get heat- related illnesses and injuries and therefore by reducing the number of people in the building. As you can see, the number of people in the building will have to decrease. That is why it is the municipal associations, the levels of authority in municipalities, which will have to be invoked in the coming weeks to ensure the precautionary framework is in place to minimize heating-related illnesses and injuries to people older than 75 years old and to protect vulnerable groups, including women and the elderly. Just as important, we will have to resolve the problem of large projects that cause ecological effects. During the day, it is necessary to move traffic and pollution. During the night, it is necessary to house. During the day, it is necessary to work. During the night, it is necessary to settle accounts. At a minimum, these large urban transformations will have to be partially disused for up to 30 minutes a day of dormancy for work and up to 60 minutes of dormancy for rest. This means that, during this period, all sectors of our society, regardless of our differences, the participation of businesses, professions, religious bodies and associations, municipalists, union leaders, citizen representatives and women will have to take part in this massive national mobilization. At the same time, we will have to create innovative ways of meeting the ecological, economic and social needs of the large urban transformations that will take place over the course of June and July. This massive mobilization will be possible only after a fundamental rethinking of our society, a rethinking that will take place throughout our nations. It will take place throughout our countries, in our departments, in our regulatory frameworks, in our agricultural policies, in our urban conservation plans. It will take place throughout our country, but especially in the north. We will return when we will emphasize here, I know the memory. We will return and explain this decision to be about as French as the rose and its rue. The ransom we are asking is innocent. The innocent are the climate, the economy, the security of our elders. We owe them, we took them and we will take back what is rightfully ours. The right decisions were taken in December of last year to greatly reduce the traffic limit in Paris by one kilometre every hour. In May, the government and Parliament adopted a rapid procedures system that, together with traffic lights, will reduce congestion to nearly zero. In addition, from June 1, new spending powers will be conferred on the provinces to enable them to bypass the congestion cop out systems. This new authority will be made up in large part by proposing radical new\n",
      "\n",
      "[810 | 1248.43] loss=0.24 avg=1.66\n",
      "[820 | 1262.71] loss=0.23 avg=1.64\n",
      "[830 | 1277.10] loss=0.59 avg=1.62\n",
      "[840 | 1291.59] loss=0.32 avg=1.60\n",
      "[850 | 1305.89] loss=0.24 avg=1.57\n",
      "[860 | 1319.99] loss=0.21 avg=1.55\n",
      "[870 | 1333.99] loss=0.30 avg=1.53\n",
      "[880 | 1347.99] loss=0.14 avg=1.50\n",
      "[890 | 1361.94] loss=0.17 avg=1.48\n",
      "[900 | 1375.89] loss=0.15 avg=1.46\n",
      "[910 | 1389.82] loss=0.33 avg=1.44\n",
      "[920 | 1403.76] loss=0.25 avg=1.42\n",
      "[930 | 1417.71] loss=0.38 avg=1.40\n",
      "[940 | 1431.67] loss=0.13 avg=1.38\n",
      "[950 | 1445.67] loss=0.25 avg=1.36\n",
      "[960 | 1459.69] loss=0.43 avg=1.35\n",
      "[970 | 1473.69] loss=0.41 avg=1.33\n",
      "[980 | 1487.73] loss=0.18 avg=1.32\n",
      "[990 | 1501.80] loss=0.25 avg=1.30\n",
      "[1000 | 1515.91] loss=0.12 avg=1.28\n",
      "Saving checkpoint/run1/model-1000\n",
      "WARNING:tensorflow:From /usr/local/lib/python3.7/site-packages/tensorflow_core/python/training/saver.py:969: remove_checkpoint (from tensorflow.python.training.checkpoint_management) is deprecated and will be removed in a future version.\n",
      "Instructions for updating:\n",
      "Use standard file APIs to delete files with this prefix.\n"
     ]
    },
    {
     "name": "stderr",
     "output_type": "stream",
     "text": [
      "WARNING:tensorflow:From /usr/local/lib/python3.7/site-packages/tensorflow_core/python/training/saver.py:969: remove_checkpoint (from tensorflow.python.training.checkpoint_management) is deprecated and will be removed in a future version.\n",
      "Instructions for updating:\n",
      "Use standard file APIs to delete files with this prefix.\n"
     ]
    }
   ],
   "source": [
    "gpt2.finetune(\n",
    "    sess,\n",
    "    dataset=FILE_NAME,\n",
    "    model_name=MODEL_NAME,\n",
    "    steps=1000,\n",
    "    restore_from='fresh',\n",
    "    run_name=RUN_NAME,\n",
    "    print_every=10,\n",
    "    sample_every=200,\n",
    "    save_every=500,\n",
    "    learning_rate=1e-5\n",
    ")"
   ]
  },
  {
   "cell_type": "code",
   "execution_count": 12,
   "metadata": {},
   "outputs": [
    {
     "name": "stdout",
     "output_type": "stream",
     "text": [
      "['My dear sister, we are at war. War has struck us as a nation and it is up to us to fight against it and to overcome it. We will not give up. We will not give in to defeat. My dear compatriots, our thoughts and our prayers are with the loved ones of the fallen at this time. The government, the law enforcers, the armed forces, the civil service, the media, all these are at war. All are engaged in this war against the spread', 'My dear Americans, tonight I want to tell you that I have been thinking a lot about you recently. I saw it on your faces as I have been, a sense of urgency and urgency to do, of tomorrow. My dear compatriots, we have not only survived, we have survived because we have committed ourselves. Because we know that when we work together, we succeed. Because we are America, we are union, we are the strongest economy in Europe, we are sovereign, we are solidarity. Because', \"My dear compatriots, for the past six months we've been working hard to bring about a political solution to the Syrian crisis. I, too, wanted to thank you for your patience. I, too, wanted to address you in person. I wanted to tell you what I saw and heard and to assure you that our concerns are well-founded. First of all, there have been successes. As you know, we've been able to stabilize the situation in several places, such as in the town of\", 'My dear compatriots, we have faced this crisis before. It was confronted in the years of the governments of Jacques Chirac and Jean Bertrand and it will be confronted again. We need to come together around a common strategy that will allow us to meet this challenge effectively and courageously. I ask you to be responsible, responsible citizens, to be responsible in the morning, to be responsible in the afternoon, to be responsible in the evening. I also want you to have a great sense of responsibility for', \"My dear compatriots, no matter where we live, whether we are a citizen of a certain state, or live in another region, if I were you, I would follow the example of our countrymen and follow the example of all our fellow citizens who, regardless of where they live, regardless of their origin, regardless of where they work, regardless of their circumstances, shared these values that have made this nation. I want us to preserve them for our children and grandchildren and that's why, with this in\"]\n"
     ]
    }
   ],
   "source": [
    "results = gpt2.generate(\n",
    "    sess,\n",
    "    length=100,\n",
    "    temperature=.7,\n",
    "    prefix=PREFIX,\n",
    "    nsamples=5,\n",
    "    run_name=RUN_NAME,\n",
    "    return_as_list=True\n",
    ")\n",
    "print(results)"
   ]
  },
  {
   "cell_type": "code",
   "execution_count": 13,
   "metadata": {},
   "outputs": [
    {
     "name": "stdout",
     "output_type": "stream",
     "text": [
      "Ma chère sœur, nous sommes en guerre. La guerre nous a frappés en tant que nation et c'est à nous de la combattre et de la surmonter. Nous n'abandonnerons pas. Nous ne céderons pas à la défaite. Mes chers compatriotes, nos pensées et nos prières sont avec les proches des déchus en ce moment. Le gouvernement, les forces de l'ordre, les forces armées, la fonction publique, les médias, tout cela est en guerre.\n",
      "\n",
      "Mes chers Américains, ce soir, je veux vous dire que j'ai beaucoup réfléchi à vous récemment. Je l'ai vu sur vos visages comme je l'ai été, un sentiment d'urgence et d'urgence à faire, de demain. Mes chers compatriotes, non seulement nous avons survécu, nous avons survécu parce que nous nous sommes engagés nous-mêmes. Parce que nous savons que lorsque nous travaillons ensemble, nous réussissons. Parce que nous sommes l'Amérique, nous sommes l'union, nous sommes l'économie la plus forte d'Europe, nous sommes souverains, nous sommes solidaires.\n",
      "\n",
      "Mes chers compatriotes, depuis six mois, nous travaillons dur pour trouver une solution politique à la crise syrienne. Moi aussi, je voulais vous remercier pour votre patience. Moi aussi, je voulais m'adresser à vous en personne. Je voulais vous dire ce que j'ai vu et entendu et vous assurer que nos préoccupations sont fondées. Tout d'abord, il y a eu des succès.\n",
      "\n",
      "Mes chers compatriotes, nous avons déjà fait face à cette crise. Il a été confronté dans les années des gouvernements de Jacques Chirac et Jean Bertrand et il sera à nouveau confronté. Nous devons nous unir autour d'une stratégie commune qui nous permettra de relever ce défi de manière efficace et courageuse. Je vous demande d'être des citoyens responsables, responsables, d'être responsables le matin, d'être responsables l'après-midi, d'être responsables le soir.\n",
      "\n",
      "Mes chers compatriotes, peu importe où nous vivons, que nous soyons citoyens d'un certain État, ou que nous vivions dans une autre région, si j'étais vous, je suivrais l'exemple de nos compatriotes et suivrais l'exemple de tous nos concitoyens qui, peu importe où ils vivent, quelle que soit leur origine, quel que soit l'endroit où ils vivent ils travaillent, quelle que soit leur situation, ont partagé les valeurs qui ont fait de notre pays.\n",
      "\n"
     ]
    }
   ],
   "source": [
    "import boto3\n",
    "\n",
    "translator = boto3.client('translate')\n",
    "for res in results:\n",
    "    translation = translator.translate_text(Text=res, SourceLanguageCode='en', TargetLanguageCode='fr')\n",
    "    text = translation.get('TranslatedText').rsplit(\".\", 1)\n",
    "    print(text[0], end='.\\n\\n')"
   ]
  },
  {
   "cell_type": "code",
   "execution_count": 9,
   "metadata": {},
   "outputs": [
    {
     "name": "stdout",
     "output_type": "stream",
     "text": [
      "0.2: Mes chers compatriotes, nous sommes en guerre. Je sais que certains d'entre vous ont pensé à cette guerre. Il est important pour nous, en tant que nation, de nous unir.\n",
      "\n",
      "0.5: Mes chers compatriotes, je suis conscient que la période de turbulence et de tension que nous traversons ne se sent pas bien pour nous.\n",
      "\n",
      "0.7: Mon cher frère, chaque jour, nous progressons contre le virus. Nous avons déjà enregistré plus de 1000 nouveaux diagnostics, principalement en région parisienne, Marseille, Lyon et Bruxelles.\n",
      "\n",
      "1: Mes chers Cataloniens, secouer par nos menaces et nos événements de ces derniers jours. Vous l'avez vu dans les images, le son, la fureur, la passion des champions, le dévouement, la volonté de réussir qui est devenue virale.\n",
      "\n",
      "2: Mon cher Drirez Induti Zimmerman.. Alors que Gujarati sida approché 7000.>> Les patients probablement libre action de masse prochaine série sloganuku quatorze quarante.\n",
      "\n"
     ]
    }
   ],
   "source": [
    "for temperature in [.2, .5, .7, 1, 2]:\n",
    "    results = gpt2.generate(\n",
    "        sess,\n",
    "        length=50,\n",
    "        temperature=temperature,\n",
    "        prefix=PREFIX,\n",
    "        nsamples=1,\n",
    "        run_name=RUN_NAME,\n",
    "        return_as_list=True\n",
    "    )\n",
    "    translation =translator.translate_text(Text=results[0], SourceLanguageCode='en', TargetLanguageCode='fr')\n",
    "    text = translation.get('TranslatedText').rsplit(\".\", 1)\n",
    "    print(f'{temperature}: {text[0]}', end='.\\n\\n')"
   ]
  },
  {
   "cell_type": "code",
   "execution_count": null,
   "metadata": {},
   "outputs": [],
   "source": []
  }
 ],
 "metadata": {
  "instance_type": "ml.g4dn.xlarge",
  "kernelspec": {
   "display_name": "Python 3 (TensorFlow 1.15 Python 3.7 GPU Optimized)",
   "language": "python",
   "name": "python3__SAGEMAKER_INTERNAL__arn:aws:sagemaker:us-east-1:081325390199:image/tensorflow-1.15-gpu-py37-cu110-ubuntu18.04-v8"
  },
  "language_info": {
   "codemirror_mode": {
    "name": "ipython",
    "version": 3
   },
   "file_extension": ".py",
   "mimetype": "text/x-python",
   "name": "python",
   "nbconvert_exporter": "python",
   "pygments_lexer": "ipython3",
   "version": "3.7.10"
  }
 },
 "nbformat": 4,
 "nbformat_minor": 4
}
