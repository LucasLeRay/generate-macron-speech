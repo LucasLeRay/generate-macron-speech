{
 "cells": [
  {
   "cell_type": "code",
   "execution_count": 1,
   "metadata": {},
   "outputs": [
    {
     "name": "stdout",
     "output_type": "stream",
     "text": [
      "Collecting git+https://github.com/LucasLeRay/gpt-2-simple.git\n",
      "  Cloning https://github.com/LucasLeRay/gpt-2-simple.git to /tmp/pip-req-build-75w01l8z\n",
      "  Running command git clone -q https://github.com/LucasLeRay/gpt-2-simple.git /tmp/pip-req-build-75w01l8z\n",
      "Collecting regex\n",
      "  Using cached regex-2021.4.4-cp37-cp37m-manylinux2014_x86_64.whl (720 kB)\n",
      "Requirement already satisfied: requests in /usr/local/lib/python3.7/site-packages (from gpt-2-simple==0.7.2) (2.24.0)\n",
      "Collecting tqdm\n",
      "  Using cached tqdm-4.61.0-py2.py3-none-any.whl (75 kB)\n",
      "Requirement already satisfied: numpy in /usr/local/lib/python3.7/site-packages (from gpt-2-simple==0.7.2) (1.18.5)\n",
      "Requirement already satisfied: toposort in /root/.local/lib/python3.7/site-packages (from gpt-2-simple==0.7.2) (1.6)\n",
      "Requirement already satisfied: urllib3!=1.25.0,!=1.25.1,<1.26,>=1.21.1 in /usr/local/lib/python3.7/site-packages (from requests->gpt-2-simple==0.7.2) (1.25.11)\n",
      "Requirement already satisfied: certifi>=2017.4.17 in /usr/local/lib/python3.7/site-packages (from requests->gpt-2-simple==0.7.2) (2020.12.5)\n",
      "Requirement already satisfied: idna<3,>=2.5 in /usr/local/lib/python3.7/site-packages (from requests->gpt-2-simple==0.7.2) (2.10)\n",
      "Requirement already satisfied: chardet<4,>=3.0.2 in /usr/local/lib/python3.7/site-packages (from requests->gpt-2-simple==0.7.2) (3.0.4)\n",
      "Building wheels for collected packages: gpt-2-simple\n",
      "  Building wheel for gpt-2-simple (setup.py) ... \u001b[?25ldone\n",
      "\u001b[?25h  Created wheel for gpt-2-simple: filename=gpt_2_simple-0.7.2-py3-none-any.whl size=25099 sha256=7ec6447c472b1a3648052a88d33972f57d0b14e040b78aae8ef4338640e23dc9\n",
      "  Stored in directory: /tmp/pip-ephem-wheel-cache-ageheh9x/wheels/02/4c/09/265092322cc9dcfdffe97771a65835bd55e8485f4cf7e19495\n",
      "Successfully built gpt-2-simple\n",
      "Installing collected packages: tqdm, regex, gpt-2-simple\n",
      "Successfully installed gpt-2-simple-0.7.2 regex-2021.4.4 tqdm-4.61.0\n",
      "\u001b[33mWARNING: You are using pip version 21.0.1; however, version 21.1.2 is available.\n",
      "You should consider upgrading via the '/usr/local/bin/python -m pip install --upgrade pip' command.\u001b[0m\n",
      "Note: you may need to restart the kernel to use updated packages.\n",
      "WARNING:tensorflow:From /usr/local/lib/python3.7/site-packages/tensorflow_core/__init__.py:1473: The name tf.estimator.inputs is deprecated. Please use tf.compat.v1.estimator.inputs instead.\n",
      "\n",
      "WARNING:tensorflow:\n",
      "The TensorFlow contrib module will not be included in TensorFlow 2.0.\n",
      "For more information, please see:\n",
      "  * https://github.com/tensorflow/community/blob/master/rfcs/20180907-contrib-sunset.md\n",
      "  * https://github.com/tensorflow/addons\n",
      "  * https://github.com/tensorflow/io (for I/O related ops)\n",
      "If you depend on functionality not listed there, please file an issue.\n",
      "\n"
     ]
    }
   ],
   "source": [
    "# %pip uninstall gpt-2-simple -y\n",
    "%pip install git+https://github.com/LucasLeRay/gpt-2-simple.git\n",
    "import gpt_2_simple as gpt2"
   ]
  },
  {
   "cell_type": "code",
   "execution_count": 2,
   "metadata": {},
   "outputs": [],
   "source": [
    "MODEL_NAME='355M'\n",
    "FILE_NAME='en.macron.txt'\n",
    "RUN_NAME='run1'\n",
    "PREFIX='My'\n",
    "sess = gpt2.start_tf_sess()"
   ]
  },
  {
   "cell_type": "code",
   "execution_count": 3,
   "metadata": {},
   "outputs": [
    {
     "name": "stderr",
     "output_type": "stream",
     "text": [
      "Fetching checkpoint: 1.05Mit [00:00, 706Mit/s]                                                      \n",
      "Fetching encoder.json: 1.05Mit [00:00, 6.96Mit/s]                                                   \n",
      "Fetching hparams.json: 1.05Mit [00:00, 636Mit/s]                                                    \n",
      "Fetching model.ckpt.data-00000-of-00001: 1.42Git [00:42, 33.5Mit/s]                                 \n",
      "Fetching model.ckpt.index: 1.05Mit [00:00, 614Mit/s]                                                \n",
      "Fetching model.ckpt.meta: 1.05Mit [00:00, 9.83Mit/s]                                                \n",
      "Fetching vocab.bpe: 1.05Mit [00:00, 9.93Mit/s]                                                      \n"
     ]
    }
   ],
   "source": [
    "gpt2.download_gpt2(model_name=MODEL_NAME)"
   ]
  },
  {
   "cell_type": "code",
   "execution_count": 4,
   "metadata": {},
   "outputs": [
    {
     "name": "stdout",
     "output_type": "stream",
     "text": [
      "WARNING:tensorflow:From /usr/local/lib/python3.7/site-packages/gpt_2_simple/src/sample.py:17: where (from tensorflow.python.ops.array_ops) is deprecated and will be removed in a future version.\n",
      "Instructions for updating:\n",
      "Use tf.where in 2.0, which has the same broadcast rule as np.where\n",
      "WARNING:tensorflow:From /usr/local/lib/python3.7/site-packages/gpt_2_simple/src/memory_saving_gradients.py:62: get_backward_walk_ops (from tensorflow.contrib.graph_editor.select) is deprecated and will be removed after 2019-06-06.\n",
      "Instructions for updating:\n",
      "Please use tensorflow.python.ops.op_selector.get_backward_walk_ops.\n",
      "Loading checkpoint models/355M/model.ckpt\n",
      "INFO:tensorflow:Restoring parameters from models/355M/model.ckpt\n"
     ]
    },
    {
     "name": "stderr",
     "output_type": "stream",
     "text": [
      "INFO:tensorflow:Restoring parameters from models/355M/model.ckpt\n",
      "  0%|          | 0/1 [00:00<?, ?it/s]"
     ]
    },
    {
     "name": "stdout",
     "output_type": "stream",
     "text": [
      "Loading dataset...\n"
     ]
    },
    {
     "name": "stderr",
     "output_type": "stream",
     "text": [
      "100%|██████████| 1/1 [00:00<00:00,  3.25it/s]\n"
     ]
    },
    {
     "name": "stdout",
     "output_type": "stream",
     "text": [
      "dataset has 35464 tokens\n",
      "Training...\n",
      "[10 | 24.14] loss=3.60 avg=3.60\n",
      "[20 | 38.67] loss=3.50 avg=3.55\n",
      "[30 | 53.31] loss=3.53 avg=3.54\n",
      "[40 | 68.05] loss=3.23 avg=3.46\n",
      "[50 | 82.90] loss=3.39 avg=3.45\n",
      "[60 | 97.84] loss=3.24 avg=3.41\n",
      "[70 | 112.84] loss=3.27 avg=3.39\n",
      "[80 | 127.92] loss=2.94 avg=3.33\n",
      "[90 | 143.08] loss=3.29 avg=3.33\n",
      "[100 | 158.28] loss=3.18 avg=3.31\n",
      "[110 | 173.55] loss=3.28 avg=3.31\n",
      "[120 | 188.88] loss=3.04 avg=3.29\n",
      "[130 | 204.24] loss=3.44 avg=3.30\n",
      "[140 | 219.65] loss=2.89 avg=3.27\n",
      "[150 | 235.12] loss=2.64 avg=3.22\n",
      "[160 | 250.64] loss=2.95 avg=3.20\n",
      "[170 | 266.20] loss=2.89 avg=3.18\n",
      "[180 | 281.78] loss=3.24 avg=3.19\n",
      "[190 | 297.37] loss=3.24 avg=3.19\n",
      "[200 | 312.94] loss=3.13 avg=3.19\n",
      "======== SAMPLE 1 ========\n",
      " responsibility of the entire community,\" she said.\n",
      "\n",
      "Founded in 2009, the group has so far registered 1,500 doctors as well as 500 nurses and other health professionals, as well as 200 doctors, psychologists and pharmacists. The association also aims to have 60 teachers as well as 300 assistants ready for school, said the local government of Aragón. At the moment, the group has an official website and it also has a Facebook and Twitter account as well as WhatsApp and email accounts.\n",
      "\n",
      "The government is therefore planning to create three national registries that will allow a doctor to treat people where he or she works, the doctor said on the condition of anonymity. Each will be created on the basis of two levels of authorization: as part of the team that deals with illnesses and disease when he or she is with a doctor, and also on the basis of the protocol of the organization, where the doctor operates.\n",
      "\n",
      "The first will be established in Aragón, where the first registers will be established in the hospital and medical offices, all local government, civil service and education branches, as well as all public administration offices, universities and colleges, he said in an interview with EURACTIV Spain on March 8. The health minister had earlier said that the regional and central states would have a role to create the national protocols.\n",
      "\n",
      "\"Registers will contain the same information, in particular the protocol, the procedure we have. The only difference between our health system and the U.S. is also that the protocols govern everything in this country. The protocol will be a set of rules that the health ministry has been working on so that everybody can have access to the information he or she needs,\" he said.\n",
      "\n",
      "As of 2015, there will be six national registers created by the national authorities, the health minister said in the interview. At the same time, the regional and local authorities will have five national registers each. The regional authority in each local government and civil service will be asked to create a list of people who would be able to access the protocol without the help of nurses, they said.\n",
      "\n",
      "\"Every city and the regional and local authorities are creating more and more registers in a spirit of cooperation among themselves, with the support of the government and with the participation of health professionals. I see this project as a means of consolidating data and improving coordination through the organization of these registers so that it is in the interest of the country and we are able to take every possible means to give patients the same protection as our nurses and health professionals,\" he said.\n",
      "\n",
      "The minister also said he had planned to have a national protocol on emergency medicine by 2017, which he will present to the national and regional leaders in the summer.\n",
      "\n",
      "EURACTIV reported the minister's comments on the official website of the state health service, which explained the importance of this protocol and promised to begin work on the plans necessary in the event of emergencies:<|endoftext|>There was a time and place when the French were most proud of their national character. A moment when the world's citizens lived by the values of liberal tolerance, equality and fraternity, a time when all who were in need of the French state were at its service, when the nation sought to overcome racial prejudice, gender discrimination and class inequalities. In the nineteenth century it was the foundation of a humane society. Today its role is to confront, by the end of the twenty-first century, a society of increasingly unequal societies. In this context it is essential for all of us to remember the fundamental lesson of the twentieth century. As late as the Second World War, the European Union, with its single market and rules on immigration, was the greatest force for social and economic progress the world had ever known. But the days when Europe was at the heart of international society are past. Today the world is living in an era of globalization on the one hand, and a technology revolution on the other, in which the world is now a place with fewer goods, more costs and fewer rules. And this, too, has enormous human costs. The consequences for the most vulnerable, the most excluded and the most disadvantaged of this era can no longer be ignored because without it, for the first time in a generation, the human and economic suffering of mankind would be put in question. The moment our fate lies is the moment to decide, in my view, on the direction of our politics and politics. I know this to be at the crux of the choice that the people will have to face for the coming years. In fact, for the future of our nation, to choose is to betray the best of our character. That is why I say it is crucial to choose without sacrificing national interests because we must make the choice. We need to decide by not following the wrong path of compromise, which has led us ever since the beginning of recent years for what we believe in. We must show courage and resilience because we are the masters of our own destiny. These principles were repeated repeatedly so convincingly that the majority of our fellow citizens\n",
      "\n",
      "[210 | 351.82] loss=3.16 avg=3.19\n",
      "[220 | 367.25] loss=3.04 avg=3.18\n",
      "[230 | 382.69] loss=2.86 avg=3.16\n",
      "[240 | 398.12] loss=2.54 avg=3.13\n",
      "[250 | 413.50] loss=2.73 avg=3.12\n",
      "[260 | 428.88] loss=2.67 avg=3.10\n",
      "[270 | 444.26] loss=2.28 avg=3.06\n",
      "[280 | 459.64] loss=2.56 avg=3.04\n",
      "[290 | 474.99] loss=2.29 avg=3.01\n",
      "[300 | 490.35] loss=2.95 avg=3.01\n",
      "[310 | 505.71] loss=2.94 avg=3.01\n",
      "[320 | 521.05] loss=2.90 avg=3.00\n",
      "[330 | 536.40] loss=2.38 avg=2.98\n",
      "[340 | 551.74] loss=2.63 avg=2.97\n",
      "[350 | 567.07] loss=2.41 avg=2.95\n",
      "[360 | 582.40] loss=3.16 avg=2.96\n",
      "[370 | 597.73] loss=2.05 avg=2.93\n",
      "[380 | 613.07] loss=1.98 avg=2.90\n",
      "[390 | 628.40] loss=2.58 avg=2.89\n",
      "[400 | 643.74] loss=2.24 avg=2.87\n",
      "======== SAMPLE 1 ========\n",
      ", we will continue to fight as if this disease is over for the time being. The health ministry has begun a campaign, calling on people to try to limit their physical activity. This is going to require some effort, but we have to be able to go out to eat or go for a walk. Everyone should do this as much as possible, even if he is in a group of nine. We're going to need your support for a great many weeks, but I have confidence in each of us. People of good will in this country are going to be there. They will be watching us very, very carefully. We will succeed. We will get better. I will also promise my dear compatriots as soon as I see on Thursday, I will inform them through the press the moment when the epidemic will be at its height, precisely because it is so unpredictable. I also promise again on this day that everything will return to normal in the mean time. Yes, on Thursday. This is the date when the government, the national and local elected representatives of the Republic will hold a first round of the municipal elections. If we are going to maintain public order and security, we have to ensure a smooth and resumption of work. This date also determines the date of the first round of municipal elections. If we assume that everything will work as it did during the Monday and Tuesday council meetings, then in two weeks the first round will begin. It is important to understand what we mean by what has been done during this period of stability. We started by holding the national and local elections. I am counting on the whole of us to carry out a thorough and objective reexamination of the positions of mayors, of city officials of every kind. Yes, but also the performances of our elected representatives. As I said, this examination was started during the crisis of November the one before. But this time it is reaching an unprecedented level of precision. This morning I will be publishing on this website weekly updates with the most recent. So that we do not miss a thing. I also want to give my full support to the political actors who are making progress. They will have to make difficult choices during this period of stability. But we owe them the best possible outcome for our country as a whole and also for our political, civic, cultural and animistic choices. This is our collective commitment to ensure that during this two weeks of calm, everyone will be able to live with dignity, to work in a peaceful and dignified manner and that is, at the same time, to confront the challenges of our century. This period of coexistence and reconciliation is a major responsibility belonging to us all. The government and the political, economic, social and adaptive decisions that we are going to take in the coming weeks and months, will give rise to new solidarity and commitment, which shall allow us to go a long way towards delivering on this sacred trust. I also want to note here that all those citizens who have suffered because of the events of the last few days, I understand very clearly. You and I share in the pain on this day. We have lost a great human being. A great father, a generous spirit, a generous husband. We will never forget you. We will always have your family. And we will carry on. Long live the Republic, long live the Republic On Tuesday, the mayors of the most affected regions will hold a second round of municipal elections. This time, the pace of local decisions will be much faster because of this period of calm. The government is going to work to ensure that the rules of this cycle in all other municipalities follow those that applied during this tragic phase of crisis. The only thing we can do is keep going as fast as possible. The whole of France is going to have to go on in this period of calm. There will be important and urgent public works. There will also be important local decisions that must be taken during this period. One must always remember that during these days, we all have to prepare ourselves for the inevitable but what matters most is the mutual care of all. Housing, food, clothing, transport, the most vulnerable and the weakest. This is what we have been able to do in Nice. We cannot give too much information during this period about the conditions in our hotels, theatres, places of education, colleges and training centres. We also do not know all the movements of our loved ones. I am convinced that since the beginning of the crisis all of us are taking all the necessary precautions. We have been honest about this, respecting the rules of containment, which means to respect the rules imposed since the beginning of the epidemic, by staying in hospitals, by staying in a hotel, restaurants or a place where one has just left a child, we are all in the clear during this period of relative restraint. The third thing we must all remember is that we must all return to normalcy as fast as possible. The world economic cycle is entering its sixth month and its consequences are still being felt earlier than expected. Our economic performance was already weakening\n",
      "\n",
      "[410 | 679.22] loss=2.26 avg=2.85\n",
      "[420 | 694.55] loss=0.98 avg=2.80\n",
      "[430 | 709.89] loss=1.07 avg=2.75\n",
      "[440 | 725.22] loss=1.55 avg=2.71\n",
      "[450 | 740.56] loss=1.17 avg=2.67\n",
      "[460 | 755.89] loss=0.82 avg=2.62\n",
      "[470 | 771.23] loss=1.73 avg=2.60\n",
      "[480 | 786.56] loss=0.91 avg=2.55\n",
      "[490 | 801.89] loss=1.46 avg=2.52\n",
      "[500 | 817.22] loss=1.02 avg=2.49\n",
      "Saving checkpoint/run1/model-500\n",
      "[510 | 849.56] loss=1.65 avg=2.47\n",
      "[520 | 864.86] loss=1.41 avg=2.44\n",
      "[530 | 880.30] loss=0.60 avg=2.40\n",
      "[540 | 895.72] loss=0.66 avg=2.35\n",
      "[550 | 911.15] loss=1.03 avg=2.32\n",
      "[560 | 926.57] loss=0.39 avg=2.28\n",
      "[570 | 942.00] loss=0.88 avg=2.25\n",
      "[580 | 957.41] loss=1.54 avg=2.23\n",
      "[590 | 972.84] loss=0.75 avg=2.20\n",
      "[600 | 988.27] loss=1.14 avg=2.17\n",
      "======== SAMPLE 1 ========\n",
      ", or we will not get the medicines we need. So it is, first and foremost, the principle of responsibility on the side of the patient. We need to know more about this drug Cote, this combination will be suitable only for about 15 to 20 percent of patients. But let me say it again, this drug is the most valuable active ingredient of Cote, and it increases the patient life by 5 to 7 years in some cases. My dear compatriots, with this new approach, we will also consolidate care in France, because the number of patients receiving the Cote that we receive does not correspond to the number of patients who require our health services. And so to treat this enormous reservoir, we will consolidate our services so as to present a single, even more comprehensive, system of care. So these are the concrete results of the crisis we are going through. But I have one last point I would like to make. My dear compatriots, it is I who am asking you to take decisions without having seen them, without having any professional training, without having done studies on these decisions. It is I who am asking you to make fundamental reforms, and I tell you, I can hardly tell you how many of these decisions I make myself, so it is I who have to replace them. Do not let the first wave, the most difficult, destroy you. My dear compatriots, each of us has a role to play. Each of us has a role to play in rebuilding our collective will, our collective memory, in rebuilding our collective will to succeed, and in the fight to survive. Work again. Work for a just and sustainable Europe, where justice, equality before the law and freedom of movement are firmly rooted. As our future depends on it, continue to carry out your projects with the same commitment with France as you have with the state of emergency that has been declared in full. Make the police and gendarmes even more powerful to protect us and guarantee the peace. As your partner in this construction, let us never lose sight of the first responsibility we all owe each other. Public services that are there, recognitions that are there, the laundry that needs to be done, the gardener that needs to be present at the service that collects his services, at the pharmacy that, wherever he is, provides that service, the elected official who has a responsibility that transcends his or her political party, it is he or she who will accompany us in ensuring that our public services can be. Let us never forget that public service cannot be instant, nor can we expect it by responding to crises in the short or the medium term, nor can we expect it from our elected representatives. Rather, it belongs instead to us, to all of us, when we are teenagers. We need always to be aware of our resources, and when necessary, give up on a job, for example, in a restaurant because we don't have the energy, we don't have the strength, but rather, taught that it is better to eat in another restaurant, to travel a little later, a little more economically. We needed that instinct in the beginning. That is why I said that a precautionary attitude was in order when the panic swept France in late November, when the number of deaths in hospital told us that we were no longer at war, and when the data from the beginning of December showed that we at least had a general policy, a coherent national strategy In these few weeks, we have known, it is I hoped that our Brother States would intervene more forcefully and help us to build a better France. I am grateful to them and I hope that our European and international partners would be more forceful. I did not expect them to take such firm steps and would not expect them from me. That's their problem. I only expect that we will not let terrorists win by letting them win through the use of misinformation, of violence to obscure the fact that we are at war. That is why I ask you every day to be vigilant, to be prudent, to be trustworthy, that is why I ask you to be faithful to one another, to one another, because it is you who are the first and who are Virgin Mother. For this I share yours is different because it is ours, it is who we are, and we must hold on. Tonight I want to tell you what it is we do not yet know. That is why I ask you to remain as we have been since the first day, informed. Because together, we will never fully recover from what the first wave did to us. We know, we are a nation that is well informed. We know what we don't know. We also know things that others do not know, places that others do not go, things that we do not know, and I share this with you, do not reveal them. And so I, too, want as much as possible of this first wave about which we know the most. Not so much what we do not know, but what we know, we share\n",
      "\n",
      "[610 | 1023.78] loss=1.19 avg=2.15\n",
      "[620 | 1039.20] loss=1.51 avg=2.14\n",
      "[630 | 1054.61] loss=0.47 avg=2.10\n",
      "[640 | 1070.02] loss=0.73 avg=2.07\n",
      "[650 | 1085.43] loss=1.19 avg=2.06\n",
      "[660 | 1100.85] loss=0.34 avg=2.02\n",
      "[670 | 1116.27] loss=0.73 avg=1.99\n",
      "[680 | 1131.68] loss=0.58 avg=1.97\n",
      "[690 | 1147.08] loss=0.46 avg=1.93\n",
      "[700 | 1162.49] loss=0.30 avg=1.90\n",
      "[710 | 1177.91] loss=0.34 avg=1.87\n",
      "[720 | 1193.31] loss=0.32 avg=1.84\n",
      "[730 | 1208.71] loss=0.36 avg=1.81\n",
      "[740 | 1224.13] loss=0.48 avg=1.79\n",
      "[750 | 1239.54] loss=0.42 avg=1.76\n",
      "[760 | 1254.94] loss=0.25 avg=1.73\n",
      "[770 | 1270.34] loss=0.70 avg=1.71\n",
      "[780 | 1285.76] loss=0.39 avg=1.69\n",
      "[790 | 1301.17] loss=0.34 avg=1.67\n",
      "[800 | 1316.59] loss=0.54 avg=1.65\n",
      "======== SAMPLE 1 ========\n",
      " of the two hundred and twenty members that have signed. First and foremost, thank you. I would like to say to you for each and every one of you who does not speak French. I hope that you will, because we have common interests. We are all politicians and citizens of this great and living nation. We all know what happens in moments of great urgency. We trust the service of our officials in this House in this respect and that is why I call this election now. Precisely because of this, we are recalling today the election law. The laws that guarantee the right to know what is happening in our country, in the memory of our dead, in a democracy that values all its substance and that protects our right to know. Election law is a shield against the fast spreading fake news and misinformation. Much has been said lately by the media and the political establishment about the danger of an increasingly divisive France and that an anti-Muslim, anti-Amerika, and an anti- immigrants, and anti-European campaign could help to heal the France we lost the day after the terrorist attacks of Nov. 13. And I share their fear. I share their desire to live their lives in a way that is sensitive to one another and free of the rigours of time. We need to go further by rebuilding our country and tackling its deeper problems together. I share that desire, too, and I see it in the commitments I have just made with my French Canadian and English-speaking counterparts. We will have fundamental changes which I can tell you about shortly. We are making choices and making choices quickly. We must be true to them, or we will never fully live up to what Ernest Gass called our national duty. Here we are, after nearly five years of Atatürk, of Weber and Renouf, of Allende and Ofarno. We are witnessing the deep crisis of the twentieth century. We are witnessing a century-old conflict between rich and poor, educated and uneducated, scientific and unprofessional, those possessing capital or science, leisure or tradition, settle now on all too often deeply held convictions about how to live and work, but without having considered the implications of the decisions they are about to make. We saw it in the 1930s and 40s, when the government, the parliament, the family was at the heart of the solution. Today, we are entering a period of change, when a large segment of the population is asking for a return to the simpler, more caring modes of the past, a return to the day when the planet was the property of the earth and all its inhabitants were members of a family. We were all in the moment when, at the insistence of science, nature did away with barriers, gave every inch of the surface of the Earth to explore, manufacture, work and sleep, the evidence of her technological and economic might was to manifest itself in the human form we see today. We were also in a moment of profound transformation of our society, with the creation of the Environmental Commission, the establishment of precautionary services, the objective of reducing the number of live births to as few as possible and the objective of achieving a condition of sustainability for our Planet, by working together, recycling and protecting, I and we can succeed in the eleventh hour. We need, however, two more years of the status quo, and after five years of my plan, a situation already defined by the increase of poverty, inequality and uneven development, it is simply not sustainable. We must then, once and for all, decide how to make the changes that are necessary for our health, our environment, our family, that is, the basis for the future. This will be my absolute priority. I know that in order to achieve it, each of us holds on to his or her sense of responsibility. This is particularly true in the economic sphere, where the scale, the concentration of forces make it difficult to return to the enterprise of collective adjustment. I therefore know that in order to retain our jobs, to increase our purchasing power and to continue to live according to the principles that allow us to do so, we must first decide together how we will manage the economic crisis. The first wave was planned well. All the players were well informed, followed its material signals and took all the necessary measures to protect their assets. The state also fully participated in the management of the crisis. From the first day, it supported the social assistance administrations, the councils and the solidarity farms to ensure coordination and independence of will. The government also committed itself to provide all the support that was necessary, in particular for the older and the most fragile. In this regard, the Minister of Health, the President of the Council of State, the Prime Minister, the Ministers of Health, Culture, Sport, Science and Labor, as well as the elected representatives of the professional associations, associations and charitable bodies, made the necessary decisions. The period of transition was well planned. From the first day of our Netherlands membership, structural reform was initiated. From that date, tax\n",
      "\n",
      "[810 | 1351.95] loss=0.37 avg=1.62\n",
      "[820 | 1367.35] loss=0.22 avg=1.60\n",
      "[830 | 1382.75] loss=0.15 avg=1.57\n",
      "[840 | 1398.15] loss=0.22 avg=1.55\n",
      "[850 | 1413.55] loss=0.25 avg=1.53\n",
      "[860 | 1428.96] loss=1.49 avg=1.52\n",
      "[870 | 1444.36] loss=0.18 avg=1.50\n",
      "[880 | 1459.76] loss=0.15 avg=1.48\n",
      "[890 | 1475.15] loss=0.36 avg=1.46\n",
      "[900 | 1490.54] loss=0.24 avg=1.44\n",
      "[910 | 1505.94] loss=0.77 avg=1.43\n",
      "[920 | 1521.34] loss=0.15 avg=1.41\n",
      "[930 | 1536.74] loss=0.25 avg=1.39\n",
      "[940 | 1552.15] loss=0.28 avg=1.37\n",
      "[950 | 1567.57] loss=0.18 avg=1.35\n",
      "[960 | 1582.98] loss=0.26 avg=1.33\n",
      "[970 | 1598.39] loss=0.35 avg=1.32\n",
      "[980 | 1613.79] loss=0.13 avg=1.30\n",
      "[990 | 1629.20] loss=0.19 avg=1.28\n",
      "[1000 | 1644.61] loss=0.14 avg=1.26\n",
      "Saving checkpoint/run1/model-1000\n",
      "WARNING:tensorflow:From /usr/local/lib/python3.7/site-packages/tensorflow_core/python/training/saver.py:969: remove_checkpoint (from tensorflow.python.training.checkpoint_management) is deprecated and will be removed in a future version.\n",
      "Instructions for updating:\n",
      "Use standard file APIs to delete files with this prefix.\n"
     ]
    },
    {
     "name": "stderr",
     "output_type": "stream",
     "text": [
      "WARNING:tensorflow:From /usr/local/lib/python3.7/site-packages/tensorflow_core/python/training/saver.py:969: remove_checkpoint (from tensorflow.python.training.checkpoint_management) is deprecated and will be removed in a future version.\n",
      "Instructions for updating:\n",
      "Use standard file APIs to delete files with this prefix.\n"
     ]
    }
   ],
   "source": [
    "gpt2.finetune(\n",
    "    sess,\n",
    "    dataset=FILE_NAME,\n",
    "    model_name=MODEL_NAME,\n",
    "    steps=1000,\n",
    "    restore_from='fresh',\n",
    "    run_name=RUN_NAME,\n",
    "    print_every=10,\n",
    "    sample_every=200,\n",
    "    save_every=500,\n",
    "    learning_rate=1e-5\n",
    ")"
   ]
  },
  {
   "cell_type": "code",
   "execution_count": 7,
   "metadata": {},
   "outputs": [
    {
     "name": "stdout",
     "output_type": "stream",
     "text": [
      "['My friend, the results are in. But first things first. We must understand that for three months we are going to have to adapt our everyday life in the second city to avoid serious collisions. This is a great effort. But it cannot succeed overnight.', 'My first thought was to see my wife and my daughter. I was very worried about her. I never thought she would survive the war. I also worried about our elderly caregivers. I asked my minister to come quickly and assess the situation in our municipalities.', 'My friends, we are at war. The first task is to defeat. The second is to act quickly to prevent the epidemic spreading. I want to thank you very much for your warm greetings and good morning. Three and a half weeks at the center', \"My first response is to continue caring for our loved ones. I know everyone's thoughts are with them. My concern is our caregivers who are suffering. They're worried about themselves and sometimes even with what they put in. So I want to reassure them.\", 'My last message for all those who work for the state. The final contract we have signed today must be maintained. I ask you to stay at home as much as possible. Stay at home means, that you do not disturb anyone. Stay at home when']\n"
     ]
    }
   ],
   "source": [
    "results = gpt2.generate(\n",
    "    sess,\n",
    "    length=50,\n",
    "    temperature=.7,\n",
    "    prefix=PREFIX,\n",
    "    nsamples=5,\n",
    "    run_name=RUN_NAME,\n",
    "    return_as_list=True,\n",
    "    include_prefix=False\n",
    ")\n",
    "print(results)"
   ]
  },
  {
   "cell_type": "code",
   "execution_count": 9,
   "metadata": {},
   "outputs": [
    {
     "name": "stdout",
     "output_type": "stream",
     "text": [
      "Mon ami, les résultats sont là. Mais d'abord les choses. Nous devons comprendre que pendant trois mois nous devrons adapter notre vie quotidienne dans la deuxième ville pour éviter de graves collisions. C'est un grand effort. Mais elle ne peut réussir du jour au lendemain.\n",
      "\n",
      "Ma première pensée était de voir ma femme et ma fille. J'étais très inquiet pour elle. Je n'ai jamais pensé qu'elle survivrait à la guerre. Je m'inquiétais aussi au sujet de nos aidants âgés. J'ai demandé à mon ministre de venir rapidement pour évaluer la situation dans nos municipalités.\n",
      "\n",
      "Mes amis, nous sommes en guerre. La première tâche est de vaincre. La seconde consiste à agir rapidement pour prévenir la propagation de l'épidémie. Je tiens à vous remercier beaucoup pour vos chaleureuses salutations et bonjour.\n",
      "\n",
      "Ma première réponse est de continuer à prendre soin de nos proches. Je sais que les pensées de tout le monde les accompagnent. Ce qui me préoccupe, c'est nos aidants qui souffrent. Ils s'inquiètent d'eux-mêmes et parfois même de ce qu'ils mettent. Je veux les rassurer.\n",
      "\n",
      "Mon dernier message pour tous ceux qui travaillent pour l'État. Le contrat définitif que nous avons signé aujourd'hui doit être maintenu. Je vous demande de rester à la maison autant que possible. Rester à la maison signifie, que vous ne dérangez personne.\n",
      "\n"
     ]
    }
   ],
   "source": [
    "import boto3\n",
    "\n",
    "translator = boto3.client('translate')\n",
    "for res in results:\n",
    "    translation = translator.translate_text(Text=res, SourceLanguageCode='en', TargetLanguageCode='fr')\n",
    "    text = translation.get('TranslatedText').rsplit(\".\", 1)\n",
    "    print(text[0], end='.\\n\\n')"
   ]
  },
  {
   "cell_type": "code",
   "execution_count": 15,
   "metadata": {},
   "outputs": [
    {
     "name": "stdout",
     "output_type": "stream",
     "text": [
      "Mean score for temperature t = 0.2: 3.102512787526334\n",
      "Mean score for temperature t = 0.5: 3.5557125115986654\n",
      "Mean score for temperature t = 0.7: 5.834541636634377\n",
      "Mean score for temperature t = 1: 6.700601411601759\n",
      "Mean score for temperature t = 2: 30326.379175286016\n"
     ]
    }
   ],
   "source": [
    "for temperature in [.2, .5, .7, 1, 2]:\n",
    "    results = gpt2.generate(\n",
    "        sess,\n",
    "        length=50,\n",
    "        temperature=temperature,\n",
    "        prefix=PREFIX,\n",
    "        nsamples=5,\n",
    "        run_name=RUN_NAME,\n",
    "        return_as_list=True\n",
    "    )\n",
    "    scores = []\n",
    "    for continuation in results:\n",
    "        perplexity = gpt2.get_perplexity(\n",
    "            sess,\n",
    "            run_name=RUN_NAME,\n",
    "            model_name=MODEL_NAME,\n",
    "            prefix=PREFIX,\n",
    "            continuation=continuation\n",
    "        )\n",
    "    scores.append(perplexity)\n",
    "    print(f'Mean score for temperature t = {temperature}: {sum(scores)/len(scores)}')\n",
    "#     translation =translator.translate_text(Text=results[0], SourceLanguageCode='en', TargetLanguageCode='fr')\n",
    "#     text = translation.get('TranslatedText').rsplit(\".\", 1)\n",
    "#     print(f't={temperature}: {text[0]}', end='.\\n\\n')"
   ]
  },
  {
   "cell_type": "code",
   "execution_count": 21,
   "metadata": {},
   "outputs": [
    {
     "data": {
      "text/plain": [
       "['My friends, we are at war.\"\\n\\n\"I have no words. This war breaks my heart. If I had the means, I would go to the enemy and I would kill him, too, to protect you. I am a father,',\n",
       " \"My first thought after that was, 'Oh my God, what have we done to ourselves? This is not who we are, and I don't know what we will do next. We have to do something. We're going to have to do something\",\n",
       " \"My grief is that we did not get this child. We lost this child today. My thoughts and the children's are with you. I wish that today, that we could have seen so much early. But today, we need to continue our efforts to\",\n",
       " 'My love, for you is the strength to face the storm, to face everything with one accord, one purpose. Thank you. Good night. PRESIDENT LUKASH JAVKOW Thank you very much. I have a few questions. First of all',\n",
       " 'My family and I are deeply saddened by this news. Our hearts go out to the families as well. My dear compatriots, we have made a lot of progress in recent years. The number of people dying prematurely in our hospitals and on the operating table']"
      ]
     },
     "execution_count": 21,
     "metadata": {},
     "output_type": "execute_result"
    }
   ],
   "source": [
    "generated = gpt2.generate(\n",
    "    sess,\n",
    "    length=50,\n",
    "    temperature=.7,\n",
    "    prefix=PREFIX,\n",
    "    nsamples=5,\n",
    "    run_name=RUN_NAME,\n",
    "    return_as_list=True,\n",
    "    include_prefix=False\n",
    ")\n",
    "generated"
   ]
  },
  {
   "cell_type": "code",
   "execution_count": 25,
   "metadata": {},
   "outputs": [
    {
     "data": {
      "text/plain": [
       "[18.752525075500326,\n",
       " 161.54283926012567,\n",
       " 170.55576297085477,\n",
       " 150.699852132554,\n",
       " 57179.30603367993,\n",
       " 188.2227629193435]"
      ]
     },
     "execution_count": 25,
     "metadata": {},
     "output_type": "execute_result"
    }
   ],
   "source": [
    "def get_perplexity(continuation):\n",
    "    return gpt2.get_perplexity(\n",
    "            sess,\n",
    "            run_name=RUN_NAME,\n",
    "            model_name=MODEL_NAME,\n",
    "            prefix=PREFIX,\n",
    "            continuation=continuation\n",
    "        )\n",
    "\n",
    "scores = [\n",
    "    get_perplexity(\"My friends, we are at war.\"), # original generated\n",
    "    get_perplexity(\"My friends, we are the war\"),\n",
    "    get_perplexity(\"My friendds, we are at war\"),\n",
    "    get_perplexity(\"My friends, I are at war\"),\n",
    "    get_perplexity(\"war virus france\"),\n",
    "    get_perplexity(\"I am in the kitchen\")\n",
    "]\n",
    "scores"
   ]
  },
  {
   "cell_type": "code",
   "execution_count": null,
   "metadata": {},
   "outputs": [],
   "source": []
  }
 ],
 "metadata": {
  "instance_type": "ml.g4dn.xlarge",
  "kernelspec": {
   "display_name": "Python 3 (TensorFlow 1.15 Python 3.7 GPU Optimized)",
   "language": "python",
   "name": "python3__SAGEMAKER_INTERNAL__arn:aws:sagemaker:us-east-1:081325390199:image/tensorflow-1.15-gpu-py37-cu110-ubuntu18.04-v8"
  },
  "language_info": {
   "codemirror_mode": {
    "name": "ipython",
    "version": 3
   },
   "file_extension": ".py",
   "mimetype": "text/x-python",
   "name": "python",
   "nbconvert_exporter": "python",
   "pygments_lexer": "ipython3",
   "version": "3.7.10"
  }
 },
 "nbformat": 4,
 "nbformat_minor": 4
}
