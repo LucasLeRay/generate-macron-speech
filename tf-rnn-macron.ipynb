{
 "metadata": {
  "language_info": {
   "codemirror_mode": {
    "name": "ipython",
    "version": 3
   },
   "file_extension": ".py",
   "mimetype": "text/x-python",
   "name": "python",
   "nbconvert_exporter": "python",
   "pygments_lexer": "ipython3",
   "version": 3
  },
  "orig_nbformat": 2
 },
 "nbformat": 4,
 "nbformat_minor": 2,
 "cells": [
  {
   "cell_type": "code",
   "execution_count": null,
   "metadata": {},
   "outputs": [],
   "source": [
    "import sagemaker\n",
    "from sagemaker.tensorflow import TensorFlow\n",
    "from sagemaker import get_execution_role\n",
    "\n",
    "sess = sagemaker.Session()\n",
    "bucket = sess.default_bucket()\n",
    "model_dir = '/opt/ml/model'\n",
    "train_instance_type = 'ml.p3.2xlarge'\n",
    "\n",
    "estimator = TensorFlow(entry_point='train.py',\n",
    "                       role=get_execution_role(),\n",
    "                       instance_count=1,\n",
    "                       instance_type='ml.p3.2xlarge',\n",
    "                       framework_version='2.3.0',\n",
    "                       py_version='py37')\n",
    "\n",
    "estimator.fit(f'{bucket}/macron.txt')"
   ]
  }
 ]
}